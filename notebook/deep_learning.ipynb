{
 "cells": [
  {
   "cell_type": "markdown",
   "id": "enormous-scanner",
   "metadata": {},
   "source": [
    "# 4 bins"
   ]
  },
  {
   "cell_type": "code",
   "execution_count": 1,
   "id": "informative-range",
   "metadata": {
    "ExecuteTime": {
     "end_time": "2021-09-18T04:29:37.702295Z",
     "start_time": "2021-09-18T04:29:37.681351Z"
    }
   },
   "outputs": [
    {
     "name": "stdout",
     "output_type": "stream",
     "text": [
      "C:\\Users\\liuzo\\01 机器学习 物理\\github\\data\\4_bins\\4bins\n"
     ]
    }
   ],
   "source": [
    "%cd ../data/4_bins/4bins"
   ]
  },
  {
   "cell_type": "code",
   "execution_count": 2,
   "id": "decreased-cookbook",
   "metadata": {
    "ExecuteTime": {
     "end_time": "2021-09-18T04:29:40.464091Z",
     "start_time": "2021-09-18T04:29:39.178707Z"
    }
   },
   "outputs": [],
   "source": [
    "import numpy as np\n",
    "import matplotlib.pyplot as plt\n",
    "import pandas as pd\n",
    "import itertools\n",
    "from sklearn.preprocessing import MinMaxScaler\n",
    "from sklearn.model_selection import train_test_split\n",
    "import os"
   ]
  },
  {
   "cell_type": "code",
   "execution_count": 3,
   "id": "offshore-boating",
   "metadata": {
    "ExecuteTime": {
     "end_time": "2021-09-18T04:29:42.215624Z",
     "start_time": "2021-09-18T04:29:42.193699Z"
    }
   },
   "outputs": [],
   "source": [
    "max_min = lambda x: (x-x.min())/(x.max()-x.min())\n",
    "cwd = os.getcwd()\n",
    "\n",
    "def prepare_data():    \n",
    "    X = []\n",
    "    Y = []\n",
    "    for i in list(itertools.product([str(0),str(1)], [str(0),str(1)],[str(0),str(1)],[str(0)])):        \n",
    "        path = os.path.join(cwd, ''.join(i))        \n",
    "        names = os.listdir(path)       \n",
    "        \n",
    "        for name in names:            \n",
    "            X.append(pd.read_csv(os.path.join(path, name), sep='\\t',  usecols=[2]).apply(max_min).to_numpy())            \n",
    "            Y.append(np.array(eval('[' + ','.join(i) + ']')))            \n",
    "        \n",
    "    return np.array(X), np.array(Y)"
   ]
  },
  {
   "cell_type": "code",
   "execution_count": 4,
   "id": "exposed-sense",
   "metadata": {
    "ExecuteTime": {
     "end_time": "2021-09-18T04:29:46.960513Z",
     "start_time": "2021-09-18T04:29:43.714951Z"
    }
   },
   "outputs": [],
   "source": [
    "X, Y = prepare_data()"
   ]
  },
  {
   "cell_type": "code",
   "execution_count": 5,
   "id": "responsible-nicholas",
   "metadata": {
    "ExecuteTime": {
     "end_time": "2021-09-18T04:29:49.051413Z",
     "start_time": "2021-09-18T04:29:49.042437Z"
    }
   },
   "outputs": [
    {
     "data": {
      "text/plain": [
       "((329, 1000, 1), (83, 1000, 1), (329, 4), (83, 4))"
      ]
     },
     "execution_count": 5,
     "metadata": {},
     "output_type": "execute_result"
    }
   ],
   "source": [
    "X_train, X_test, y_train, y_test = train_test_split(X, Y, test_size=0.2, random_state=7)\n",
    "X_train.shape, X_test.shape, y_train.shape, y_test.shape"
   ]
  },
  {
   "cell_type": "code",
   "execution_count": 6,
   "id": "proof-future",
   "metadata": {
    "ExecuteTime": {
     "end_time": "2021-09-18T04:29:51.787525Z",
     "start_time": "2021-09-18T04:29:51.761595Z"
    }
   },
   "outputs": [],
   "source": [
    "X_train_d = np.zeros((X_train.shape[0]*2, X_train.shape[1],  X_train.shape[2]))\n",
    "y_train_d = np.zeros((y_train.shape[0]*2, y_train.shape[1]))\n",
    "\n",
    "for id  in range(X_train.shape[0]):\n",
    "    X_train_d[id] = X_train[id]\n",
    "    y_train_d[id] = y_train[id]\n",
    "    X_train_d[id + X_train.shape[0]] = X_train[id] + np.random.normal(loc=0, scale=0.5, size = (X_train.shape[1], X_train.shape[2]))\n",
    "    y_train_d[id + X_train.shape[0]] = y_train[id]\n",
    "\n",
    "X_train = X_train_d\n",
    "y_train = y_train_d\n",
    "del X_train_d\n",
    "del y_train_d"
   ]
  },
  {
   "cell_type": "code",
   "execution_count": 7,
   "id": "informed-supplier",
   "metadata": {
    "ExecuteTime": {
     "end_time": "2021-09-18T04:29:54.172698Z",
     "start_time": "2021-09-18T04:29:54.162651Z"
    }
   },
   "outputs": [
    {
     "data": {
      "text/plain": [
       "((658, 1000, 1), (83, 1000, 1), (658, 4), (83, 4))"
      ]
     },
     "execution_count": 7,
     "metadata": {},
     "output_type": "execute_result"
    }
   ],
   "source": [
    "X_train.shape, X_test.shape, y_train.shape, y_test.shape"
   ]
  },
  {
   "cell_type": "code",
   "execution_count": 8,
   "id": "elect-experiment",
   "metadata": {
    "ExecuteTime": {
     "end_time": "2021-09-18T04:29:57.586086Z",
     "start_time": "2021-09-18T04:29:55.634807Z"
    }
   },
   "outputs": [
    {
     "name": "stderr",
     "output_type": "stream",
     "text": [
      "Using TensorFlow backend.\n"
     ]
    }
   ],
   "source": [
    "from keras import models\n",
    "from keras import layers\n",
    "from keras.optimizers import RMSprop\n",
    "import numpy as np\n",
    "seed = 7\n",
    "np.random.seed(seed)\n"
   ]
  },
  {
   "cell_type": "code",
   "execution_count": 9,
   "id": "destroyed-danish",
   "metadata": {
    "ExecuteTime": {
     "end_time": "2021-09-18T04:29:57.601060Z",
     "start_time": "2021-09-18T04:29:57.586086Z"
    }
   },
   "outputs": [],
   "source": [
    "from keras import backend as K\n",
    "\n",
    "# Some memory clean-up\n",
    "K.clear_session()"
   ]
  },
  {
   "cell_type": "code",
   "execution_count": 10,
   "id": "inappropriate-paragraph",
   "metadata": {
    "ExecuteTime": {
     "end_time": "2021-09-18T04:29:58.288415Z",
     "start_time": "2021-09-18T04:29:58.275411Z"
    }
   },
   "outputs": [],
   "source": [
    "def bulid_model_CNN():  \n",
    "    \n",
    "    model_list = []   \n",
    "    \n",
    "    cnn_out_1 = 20 #16\n",
    "    cnn_len_1 = 460 #20\n",
    "    \n",
    "    model_list.append(\n",
    "            layers.Conv1D(cnn_out_1, cnn_len_1, input_shape=(X_train.shape[1],1)),\n",
    "            ) \n",
    "    model_list.append(layers.BatchNormalization())\n",
    "    model_list.append(layers.Activation('relu'))\n",
    "    model_list.append(layers.MaxPooling1D(3))    \n",
    "   \n",
    "    rnn_out = 16  \n",
    "    lr_rate = 1e-3\n",
    "    \n",
    "    \n",
    "    model_list.append(layers.Bidirectional(layers.LSTM(units=rnn_out, return_sequences=False, dropout=0.2, recurrent_dropout=0.2)))\n",
    "    model_list.append(layers.BatchNormalization())\n",
    "    \n",
    "    model_list.append(layers.Dense(y_train.shape[1], activation='sigmoid'))\n",
    "    model = models.Sequential(model_list)   \n",
    "    \n",
    "    \n",
    "    opt = RMSprop(lr=lr_rate)\n",
    "    model.compile(optimizer=opt, loss='mse', metrics=['categorical_accuracy'])\n",
    "   \n",
    "    return model"
   ]
  },
  {
   "cell_type": "code",
   "execution_count": 11,
   "id": "changing-drawing",
   "metadata": {
    "ExecuteTime": {
     "end_time": "2021-09-18T04:29:59.883643Z",
     "start_time": "2021-09-18T04:29:59.873670Z"
    }
   },
   "outputs": [],
   "source": [
    "from keras.callbacks import ReduceLROnPlateau\n",
    "from keras.callbacks import ModelCheckpoint"
   ]
  },
  {
   "cell_type": "code",
   "execution_count": 12,
   "id": "legal-ideal",
   "metadata": {
    "ExecuteTime": {
     "end_time": "2021-09-18T04:30:25.789073Z",
     "start_time": "2021-09-18T04:30:25.779097Z"
    }
   },
   "outputs": [
    {
     "name": "stdout",
     "output_type": "stream",
     "text": [
      "C:\\Users\\liuzo\\01 机器学习 物理\\github\\data\\4_bins\\weights\n"
     ]
    }
   ],
   "source": [
    "%cd ../weights"
   ]
  },
  {
   "cell_type": "code",
   "execution_count": 13,
   "id": "adult-dress",
   "metadata": {
    "ExecuteTime": {
     "end_time": "2021-09-18T04:30:28.471461Z",
     "start_time": "2021-09-18T04:30:28.466438Z"
    }
   },
   "outputs": [],
   "source": [
    "filepath = \"weights-improvement-{epoch:02d}-{val_loss:.2f}.hdf5\"\n",
    "\n",
    "callbacks_list = [ReduceLROnPlateau(monitor='val_loss', factor=0.1, patience=10), \n",
    "                   ModelCheckpoint(filepath, monitor='val_loss', verbose=1, save_best_only=False, mode='min')  ]"
   ]
  },
  {
   "cell_type": "code",
   "execution_count": 14,
   "id": "departmental-hunter",
   "metadata": {
    "ExecuteTime": {
     "end_time": "2021-09-18T04:41:22.163815Z",
     "start_time": "2021-09-18T04:30:31.041768Z"
    }
   },
   "outputs": [
    {
     "name": "stdout",
     "output_type": "stream",
     "text": [
      "processing fold # 0\n",
      "\n",
      "Epoch 00001: saving model to weights-improvement-01-0.20.hdf5\n",
      "\n",
      "Epoch 00002: saving model to weights-improvement-02-0.18.hdf5\n",
      "\n",
      "Epoch 00003: saving model to weights-improvement-03-0.16.hdf5\n",
      "\n",
      "Epoch 00004: saving model to weights-improvement-04-0.15.hdf5\n",
      "\n",
      "Epoch 00005: saving model to weights-improvement-05-0.14.hdf5\n",
      "\n",
      "Epoch 00006: saving model to weights-improvement-06-0.13.hdf5\n",
      "\n",
      "Epoch 00007: saving model to weights-improvement-07-0.11.hdf5\n",
      "\n",
      "Epoch 00008: saving model to weights-improvement-08-0.09.hdf5\n",
      "\n",
      "Epoch 00009: saving model to weights-improvement-09-0.09.hdf5\n",
      "\n",
      "Epoch 00010: saving model to weights-improvement-10-0.08.hdf5\n",
      "\n",
      "Epoch 00011: saving model to weights-improvement-11-0.06.hdf5\n",
      "\n",
      "Epoch 00012: saving model to weights-improvement-12-0.06.hdf5\n",
      "\n",
      "Epoch 00013: saving model to weights-improvement-13-0.05.hdf5\n",
      "\n",
      "Epoch 00014: saving model to weights-improvement-14-0.04.hdf5\n",
      "\n",
      "Epoch 00015: saving model to weights-improvement-15-0.04.hdf5\n",
      "\n",
      "Epoch 00016: saving model to weights-improvement-16-0.03.hdf5\n",
      "\n",
      "Epoch 00017: saving model to weights-improvement-17-0.03.hdf5\n",
      "\n",
      "Epoch 00018: saving model to weights-improvement-18-0.03.hdf5\n",
      "\n",
      "Epoch 00019: saving model to weights-improvement-19-0.02.hdf5\n",
      "\n",
      "Epoch 00020: saving model to weights-improvement-20-0.02.hdf5\n",
      "\n",
      "Epoch 00021: saving model to weights-improvement-21-0.01.hdf5\n",
      "\n",
      "Epoch 00022: saving model to weights-improvement-22-0.01.hdf5\n",
      "\n",
      "Epoch 00023: saving model to weights-improvement-23-0.01.hdf5\n",
      "\n",
      "Epoch 00024: saving model to weights-improvement-24-0.01.hdf5\n",
      "\n",
      "Epoch 00025: saving model to weights-improvement-25-0.01.hdf5\n",
      "\n",
      "Epoch 00026: saving model to weights-improvement-26-0.01.hdf5\n",
      "\n",
      "Epoch 00027: saving model to weights-improvement-27-0.01.hdf5\n",
      "\n",
      "Epoch 00028: saving model to weights-improvement-28-0.01.hdf5\n",
      "\n",
      "Epoch 00029: saving model to weights-improvement-29-0.01.hdf5\n",
      "\n",
      "Epoch 00030: saving model to weights-improvement-30-0.01.hdf5\n",
      "\n",
      "Epoch 00031: saving model to weights-improvement-31-0.00.hdf5\n",
      "\n",
      "Epoch 00032: saving model to weights-improvement-32-0.00.hdf5\n",
      "\n",
      "Epoch 00033: saving model to weights-improvement-33-0.00.hdf5\n",
      "\n",
      "Epoch 00034: saving model to weights-improvement-34-0.00.hdf5\n",
      "\n",
      "Epoch 00035: saving model to weights-improvement-35-0.00.hdf5\n",
      "\n",
      "Epoch 00036: saving model to weights-improvement-36-0.00.hdf5\n",
      "\n",
      "Epoch 00037: saving model to weights-improvement-37-0.00.hdf5\n",
      "\n",
      "Epoch 00038: saving model to weights-improvement-38-0.00.hdf5\n",
      "\n",
      "Epoch 00039: saving model to weights-improvement-39-0.00.hdf5\n",
      "\n",
      "Epoch 00040: saving model to weights-improvement-40-0.00.hdf5\n",
      "\n",
      "Epoch 00041: saving model to weights-improvement-41-0.00.hdf5\n",
      "\n",
      "Epoch 00042: saving model to weights-improvement-42-0.00.hdf5\n",
      "\n",
      "Epoch 00043: saving model to weights-improvement-43-0.00.hdf5\n",
      "\n",
      "Epoch 00044: saving model to weights-improvement-44-0.00.hdf5\n",
      "\n",
      "Epoch 00045: saving model to weights-improvement-45-0.00.hdf5\n",
      "\n",
      "Epoch 00046: saving model to weights-improvement-46-0.00.hdf5\n",
      "\n",
      "Epoch 00047: saving model to weights-improvement-47-0.00.hdf5\n",
      "\n",
      "Epoch 00048: saving model to weights-improvement-48-0.00.hdf5\n",
      "\n",
      "Epoch 00049: saving model to weights-improvement-49-0.00.hdf5\n",
      "\n",
      "Epoch 00050: saving model to weights-improvement-50-0.00.hdf5\n",
      "\n",
      "Epoch 00051: saving model to weights-improvement-51-0.00.hdf5\n",
      "\n",
      "Epoch 00052: saving model to weights-improvement-52-0.00.hdf5\n",
      "\n",
      "Epoch 00053: saving model to weights-improvement-53-0.00.hdf5\n",
      "\n",
      "Epoch 00054: saving model to weights-improvement-54-0.00.hdf5\n",
      "\n",
      "Epoch 00055: saving model to weights-improvement-55-0.00.hdf5\n",
      "\n",
      "Epoch 00056: saving model to weights-improvement-56-0.00.hdf5\n",
      "\n",
      "Epoch 00057: saving model to weights-improvement-57-0.00.hdf5\n",
      "\n",
      "Epoch 00058: saving model to weights-improvement-58-0.00.hdf5\n",
      "\n",
      "Epoch 00059: saving model to weights-improvement-59-0.00.hdf5\n",
      "\n",
      "Epoch 00060: saving model to weights-improvement-60-0.00.hdf5\n",
      "\n",
      "Epoch 00061: saving model to weights-improvement-61-0.00.hdf5\n",
      "\n",
      "Epoch 00062: saving model to weights-improvement-62-0.00.hdf5\n",
      "\n",
      "Epoch 00063: saving model to weights-improvement-63-0.00.hdf5\n",
      "\n",
      "Epoch 00064: saving model to weights-improvement-64-0.00.hdf5\n",
      "\n",
      "Epoch 00065: saving model to weights-improvement-65-0.00.hdf5\n",
      "\n",
      "Epoch 00066: saving model to weights-improvement-66-0.00.hdf5\n",
      "\n",
      "Epoch 00067: saving model to weights-improvement-67-0.00.hdf5\n",
      "\n",
      "Epoch 00068: saving model to weights-improvement-68-0.00.hdf5\n",
      "\n",
      "Epoch 00069: saving model to weights-improvement-69-0.00.hdf5\n",
      "\n",
      "Epoch 00070: saving model to weights-improvement-70-0.00.hdf5\n",
      "\n",
      "Epoch 00071: saving model to weights-improvement-71-0.00.hdf5\n",
      "\n",
      "Epoch 00072: saving model to weights-improvement-72-0.00.hdf5\n",
      "\n",
      "Epoch 00073: saving model to weights-improvement-73-0.00.hdf5\n",
      "\n",
      "Epoch 00074: saving model to weights-improvement-74-0.00.hdf5\n",
      "\n",
      "Epoch 00075: saving model to weights-improvement-75-0.00.hdf5\n",
      "processing fold # 1\n",
      "\n",
      "Epoch 00001: saving model to weights-improvement-01-0.19.hdf5\n",
      "\n",
      "Epoch 00002: saving model to weights-improvement-02-0.17.hdf5\n",
      "\n",
      "Epoch 00003: saving model to weights-improvement-03-0.15.hdf5\n",
      "\n",
      "Epoch 00004: saving model to weights-improvement-04-0.14.hdf5\n",
      "\n",
      "Epoch 00005: saving model to weights-improvement-05-0.12.hdf5\n",
      "\n",
      "Epoch 00006: saving model to weights-improvement-06-0.11.hdf5\n",
      "\n",
      "Epoch 00007: saving model to weights-improvement-07-0.10.hdf5\n",
      "\n",
      "Epoch 00008: saving model to weights-improvement-08-0.09.hdf5\n",
      "\n",
      "Epoch 00009: saving model to weights-improvement-09-0.08.hdf5\n",
      "\n",
      "Epoch 00010: saving model to weights-improvement-10-0.07.hdf5\n",
      "\n",
      "Epoch 00011: saving model to weights-improvement-11-0.06.hdf5\n",
      "\n",
      "Epoch 00012: saving model to weights-improvement-12-0.05.hdf5\n",
      "\n",
      "Epoch 00013: saving model to weights-improvement-13-0.05.hdf5\n",
      "\n",
      "Epoch 00014: saving model to weights-improvement-14-0.04.hdf5\n",
      "\n",
      "Epoch 00015: saving model to weights-improvement-15-0.03.hdf5\n",
      "\n",
      "Epoch 00016: saving model to weights-improvement-16-0.03.hdf5\n",
      "\n",
      "Epoch 00017: saving model to weights-improvement-17-0.02.hdf5\n",
      "\n",
      "Epoch 00018: saving model to weights-improvement-18-0.02.hdf5\n",
      "\n",
      "Epoch 00019: saving model to weights-improvement-19-0.02.hdf5\n",
      "\n",
      "Epoch 00020: saving model to weights-improvement-20-0.01.hdf5\n",
      "\n",
      "Epoch 00021: saving model to weights-improvement-21-0.01.hdf5\n",
      "\n",
      "Epoch 00022: saving model to weights-improvement-22-0.01.hdf5\n",
      "\n",
      "Epoch 00023: saving model to weights-improvement-23-0.01.hdf5\n",
      "\n",
      "Epoch 00024: saving model to weights-improvement-24-0.01.hdf5\n",
      "\n",
      "Epoch 00025: saving model to weights-improvement-25-0.01.hdf5\n",
      "\n",
      "Epoch 00026: saving model to weights-improvement-26-0.00.hdf5\n",
      "\n",
      "Epoch 00027: saving model to weights-improvement-27-0.00.hdf5\n",
      "\n",
      "Epoch 00028: saving model to weights-improvement-28-0.00.hdf5\n",
      "\n",
      "Epoch 00029: saving model to weights-improvement-29-0.00.hdf5\n",
      "\n",
      "Epoch 00030: saving model to weights-improvement-30-0.00.hdf5\n",
      "\n",
      "Epoch 00031: saving model to weights-improvement-31-0.00.hdf5\n",
      "\n",
      "Epoch 00032: saving model to weights-improvement-32-0.00.hdf5\n",
      "\n",
      "Epoch 00033: saving model to weights-improvement-33-0.00.hdf5\n",
      "\n",
      "Epoch 00034: saving model to weights-improvement-34-0.00.hdf5\n",
      "\n",
      "Epoch 00035: saving model to weights-improvement-35-0.00.hdf5\n",
      "\n",
      "Epoch 00036: saving model to weights-improvement-36-0.00.hdf5\n",
      "\n",
      "Epoch 00037: saving model to weights-improvement-37-0.00.hdf5\n",
      "\n",
      "Epoch 00038: saving model to weights-improvement-38-0.00.hdf5\n",
      "\n",
      "Epoch 00039: saving model to weights-improvement-39-0.00.hdf5\n",
      "\n",
      "Epoch 00040: saving model to weights-improvement-40-0.00.hdf5\n",
      "\n",
      "Epoch 00041: saving model to weights-improvement-41-0.00.hdf5\n",
      "\n",
      "Epoch 00042: saving model to weights-improvement-42-0.00.hdf5\n",
      "\n",
      "Epoch 00043: saving model to weights-improvement-43-0.00.hdf5\n",
      "\n",
      "Epoch 00044: saving model to weights-improvement-44-0.00.hdf5\n",
      "\n",
      "Epoch 00045: saving model to weights-improvement-45-0.00.hdf5\n",
      "\n",
      "Epoch 00046: saving model to weights-improvement-46-0.00.hdf5\n",
      "\n",
      "Epoch 00047: saving model to weights-improvement-47-0.00.hdf5\n",
      "\n",
      "Epoch 00048: saving model to weights-improvement-48-0.00.hdf5\n",
      "\n",
      "Epoch 00049: saving model to weights-improvement-49-0.00.hdf5\n",
      "\n",
      "Epoch 00050: saving model to weights-improvement-50-0.00.hdf5\n",
      "\n",
      "Epoch 00051: saving model to weights-improvement-51-0.00.hdf5\n",
      "\n",
      "Epoch 00052: saving model to weights-improvement-52-0.00.hdf5\n",
      "\n",
      "Epoch 00053: saving model to weights-improvement-53-0.00.hdf5\n",
      "\n",
      "Epoch 00054: saving model to weights-improvement-54-0.00.hdf5\n",
      "\n",
      "Epoch 00055: saving model to weights-improvement-55-0.00.hdf5\n"
     ]
    },
    {
     "name": "stdout",
     "output_type": "stream",
     "text": [
      "\n",
      "Epoch 00056: saving model to weights-improvement-56-0.00.hdf5\n",
      "\n",
      "Epoch 00057: saving model to weights-improvement-57-0.00.hdf5\n",
      "\n",
      "Epoch 00058: saving model to weights-improvement-58-0.00.hdf5\n",
      "\n",
      "Epoch 00059: saving model to weights-improvement-59-0.00.hdf5\n",
      "\n",
      "Epoch 00060: saving model to weights-improvement-60-0.00.hdf5\n",
      "\n",
      "Epoch 00061: saving model to weights-improvement-61-0.00.hdf5\n",
      "\n",
      "Epoch 00062: saving model to weights-improvement-62-0.00.hdf5\n",
      "\n",
      "Epoch 00063: saving model to weights-improvement-63-0.00.hdf5\n",
      "\n",
      "Epoch 00064: saving model to weights-improvement-64-0.00.hdf5\n",
      "\n",
      "Epoch 00065: saving model to weights-improvement-65-0.00.hdf5\n",
      "\n",
      "Epoch 00066: saving model to weights-improvement-66-0.00.hdf5\n",
      "\n",
      "Epoch 00067: saving model to weights-improvement-67-0.00.hdf5\n",
      "\n",
      "Epoch 00068: saving model to weights-improvement-68-0.00.hdf5\n",
      "\n",
      "Epoch 00069: saving model to weights-improvement-69-0.00.hdf5\n",
      "\n",
      "Epoch 00070: saving model to weights-improvement-70-0.00.hdf5\n",
      "\n",
      "Epoch 00071: saving model to weights-improvement-71-0.00.hdf5\n",
      "\n",
      "Epoch 00072: saving model to weights-improvement-72-0.00.hdf5\n",
      "\n",
      "Epoch 00073: saving model to weights-improvement-73-0.00.hdf5\n",
      "\n",
      "Epoch 00074: saving model to weights-improvement-74-0.00.hdf5\n",
      "\n",
      "Epoch 00075: saving model to weights-improvement-75-0.00.hdf5\n",
      "processing fold # 2\n",
      "\n",
      "Epoch 00001: saving model to weights-improvement-01-0.23.hdf5\n",
      "\n",
      "Epoch 00002: saving model to weights-improvement-02-0.20.hdf5\n",
      "\n",
      "Epoch 00003: saving model to weights-improvement-03-0.19.hdf5\n",
      "\n",
      "Epoch 00004: saving model to weights-improvement-04-0.17.hdf5\n",
      "\n",
      "Epoch 00005: saving model to weights-improvement-05-0.16.hdf5\n",
      "\n",
      "Epoch 00006: saving model to weights-improvement-06-0.15.hdf5\n",
      "\n",
      "Epoch 00007: saving model to weights-improvement-07-0.13.hdf5\n",
      "\n",
      "Epoch 00008: saving model to weights-improvement-08-0.12.hdf5\n",
      "\n",
      "Epoch 00009: saving model to weights-improvement-09-0.11.hdf5\n",
      "\n",
      "Epoch 00010: saving model to weights-improvement-10-0.09.hdf5\n",
      "\n",
      "Epoch 00011: saving model to weights-improvement-11-0.08.hdf5\n",
      "\n",
      "Epoch 00012: saving model to weights-improvement-12-0.07.hdf5\n",
      "\n",
      "Epoch 00013: saving model to weights-improvement-13-0.06.hdf5\n",
      "\n",
      "Epoch 00014: saving model to weights-improvement-14-0.05.hdf5\n",
      "\n",
      "Epoch 00015: saving model to weights-improvement-15-0.05.hdf5\n",
      "\n",
      "Epoch 00016: saving model to weights-improvement-16-0.04.hdf5\n",
      "\n",
      "Epoch 00017: saving model to weights-improvement-17-0.03.hdf5\n",
      "\n",
      "Epoch 00018: saving model to weights-improvement-18-0.03.hdf5\n",
      "\n",
      "Epoch 00019: saving model to weights-improvement-19-0.02.hdf5\n",
      "\n",
      "Epoch 00020: saving model to weights-improvement-20-0.02.hdf5\n",
      "\n",
      "Epoch 00021: saving model to weights-improvement-21-0.02.hdf5\n",
      "\n",
      "Epoch 00022: saving model to weights-improvement-22-0.01.hdf5\n",
      "\n",
      "Epoch 00023: saving model to weights-improvement-23-0.02.hdf5\n",
      "\n",
      "Epoch 00024: saving model to weights-improvement-24-0.01.hdf5\n",
      "\n",
      "Epoch 00025: saving model to weights-improvement-25-0.01.hdf5\n",
      "\n",
      "Epoch 00026: saving model to weights-improvement-26-0.01.hdf5\n",
      "\n",
      "Epoch 00027: saving model to weights-improvement-27-0.01.hdf5\n",
      "\n",
      "Epoch 00028: saving model to weights-improvement-28-0.01.hdf5\n",
      "\n",
      "Epoch 00029: saving model to weights-improvement-29-0.01.hdf5\n",
      "\n",
      "Epoch 00030: saving model to weights-improvement-30-0.01.hdf5\n",
      "\n",
      "Epoch 00031: saving model to weights-improvement-31-0.01.hdf5\n",
      "\n",
      "Epoch 00032: saving model to weights-improvement-32-0.01.hdf5\n",
      "\n",
      "Epoch 00033: saving model to weights-improvement-33-0.01.hdf5\n",
      "\n",
      "Epoch 00034: saving model to weights-improvement-34-0.00.hdf5\n",
      "\n",
      "Epoch 00035: saving model to weights-improvement-35-0.00.hdf5\n",
      "\n",
      "Epoch 00036: saving model to weights-improvement-36-0.00.hdf5\n",
      "\n",
      "Epoch 00037: saving model to weights-improvement-37-0.01.hdf5\n",
      "\n",
      "Epoch 00038: saving model to weights-improvement-38-0.01.hdf5\n",
      "\n",
      "Epoch 00039: saving model to weights-improvement-39-0.00.hdf5\n",
      "\n",
      "Epoch 00040: saving model to weights-improvement-40-0.00.hdf5\n",
      "\n",
      "Epoch 00041: saving model to weights-improvement-41-0.00.hdf5\n",
      "\n",
      "Epoch 00042: saving model to weights-improvement-42-0.00.hdf5\n",
      "\n",
      "Epoch 00043: saving model to weights-improvement-43-0.00.hdf5\n",
      "\n",
      "Epoch 00044: saving model to weights-improvement-44-0.00.hdf5\n",
      "\n",
      "Epoch 00045: saving model to weights-improvement-45-0.00.hdf5\n",
      "\n",
      "Epoch 00046: saving model to weights-improvement-46-0.00.hdf5\n",
      "\n",
      "Epoch 00047: saving model to weights-improvement-47-0.00.hdf5\n",
      "\n",
      "Epoch 00048: saving model to weights-improvement-48-0.00.hdf5\n",
      "\n",
      "Epoch 00049: saving model to weights-improvement-49-0.00.hdf5\n",
      "\n",
      "Epoch 00050: saving model to weights-improvement-50-0.00.hdf5\n",
      "\n",
      "Epoch 00051: saving model to weights-improvement-51-0.00.hdf5\n",
      "\n",
      "Epoch 00052: saving model to weights-improvement-52-0.00.hdf5\n",
      "\n",
      "Epoch 00053: saving model to weights-improvement-53-0.00.hdf5\n",
      "\n",
      "Epoch 00054: saving model to weights-improvement-54-0.00.hdf5\n",
      "\n",
      "Epoch 00055: saving model to weights-improvement-55-0.00.hdf5\n",
      "\n",
      "Epoch 00056: saving model to weights-improvement-56-0.00.hdf5\n",
      "\n",
      "Epoch 00057: saving model to weights-improvement-57-0.00.hdf5\n",
      "\n",
      "Epoch 00058: saving model to weights-improvement-58-0.00.hdf5\n",
      "\n",
      "Epoch 00059: saving model to weights-improvement-59-0.00.hdf5\n",
      "\n",
      "Epoch 00060: saving model to weights-improvement-60-0.00.hdf5\n",
      "\n",
      "Epoch 00061: saving model to weights-improvement-61-0.00.hdf5\n",
      "\n",
      "Epoch 00062: saving model to weights-improvement-62-0.00.hdf5\n",
      "\n",
      "Epoch 00063: saving model to weights-improvement-63-0.00.hdf5\n",
      "\n",
      "Epoch 00064: saving model to weights-improvement-64-0.00.hdf5\n",
      "\n",
      "Epoch 00065: saving model to weights-improvement-65-0.00.hdf5\n",
      "\n",
      "Epoch 00066: saving model to weights-improvement-66-0.00.hdf5\n",
      "\n",
      "Epoch 00067: saving model to weights-improvement-67-0.00.hdf5\n",
      "\n",
      "Epoch 00068: saving model to weights-improvement-68-0.00.hdf5\n",
      "\n",
      "Epoch 00069: saving model to weights-improvement-69-0.00.hdf5\n",
      "\n",
      "Epoch 00070: saving model to weights-improvement-70-0.00.hdf5\n",
      "\n",
      "Epoch 00071: saving model to weights-improvement-71-0.00.hdf5\n",
      "\n",
      "Epoch 00072: saving model to weights-improvement-72-0.00.hdf5\n",
      "\n",
      "Epoch 00073: saving model to weights-improvement-73-0.00.hdf5\n",
      "\n",
      "Epoch 00074: saving model to weights-improvement-74-0.00.hdf5\n",
      "\n",
      "Epoch 00075: saving model to weights-improvement-75-0.00.hdf5\n",
      "processing fold # 3\n",
      "\n",
      "Epoch 00001: saving model to weights-improvement-01-0.19.hdf5\n",
      "\n",
      "Epoch 00002: saving model to weights-improvement-02-0.17.hdf5\n",
      "\n",
      "Epoch 00003: saving model to weights-improvement-03-0.16.hdf5\n",
      "\n",
      "Epoch 00004: saving model to weights-improvement-04-0.15.hdf5\n",
      "\n",
      "Epoch 00005: saving model to weights-improvement-05-0.13.hdf5\n",
      "\n",
      "Epoch 00006: saving model to weights-improvement-06-0.11.hdf5\n",
      "\n",
      "Epoch 00007: saving model to weights-improvement-07-0.10.hdf5\n",
      "\n",
      "Epoch 00008: saving model to weights-improvement-08-0.09.hdf5\n",
      "\n",
      "Epoch 00009: saving model to weights-improvement-09-0.08.hdf5\n",
      "\n",
      "Epoch 00010: saving model to weights-improvement-10-0.07.hdf5\n",
      "\n",
      "Epoch 00011: saving model to weights-improvement-11-0.06.hdf5\n",
      "\n",
      "Epoch 00012: saving model to weights-improvement-12-0.05.hdf5\n",
      "\n",
      "Epoch 00013: saving model to weights-improvement-13-0.04.hdf5\n",
      "\n",
      "Epoch 00014: saving model to weights-improvement-14-0.04.hdf5\n",
      "\n",
      "Epoch 00015: saving model to weights-improvement-15-0.03.hdf5\n",
      "\n",
      "Epoch 00016: saving model to weights-improvement-16-0.03.hdf5\n",
      "\n",
      "Epoch 00017: saving model to weights-improvement-17-0.03.hdf5\n",
      "\n",
      "Epoch 00018: saving model to weights-improvement-18-0.02.hdf5\n",
      "\n",
      "Epoch 00019: saving model to weights-improvement-19-0.02.hdf5\n",
      "\n",
      "Epoch 00020: saving model to weights-improvement-20-0.01.hdf5\n",
      "\n",
      "Epoch 00021: saving model to weights-improvement-21-0.02.hdf5\n",
      "\n",
      "Epoch 00022: saving model to weights-improvement-22-0.01.hdf5\n",
      "\n",
      "Epoch 00023: saving model to weights-improvement-23-0.01.hdf5\n",
      "\n",
      "Epoch 00024: saving model to weights-improvement-24-0.01.hdf5\n",
      "\n",
      "Epoch 00025: saving model to weights-improvement-25-0.01.hdf5\n",
      "\n",
      "Epoch 00026: saving model to weights-improvement-26-0.00.hdf5\n",
      "\n",
      "Epoch 00027: saving model to weights-improvement-27-0.00.hdf5\n",
      "\n",
      "Epoch 00028: saving model to weights-improvement-28-0.00.hdf5\n",
      "\n",
      "Epoch 00029: saving model to weights-improvement-29-0.00.hdf5\n",
      "\n",
      "Epoch 00030: saving model to weights-improvement-30-0.00.hdf5\n",
      "\n",
      "Epoch 00031: saving model to weights-improvement-31-0.00.hdf5\n",
      "\n",
      "Epoch 00032: saving model to weights-improvement-32-0.00.hdf5\n",
      "\n",
      "Epoch 00033: saving model to weights-improvement-33-0.00.hdf5\n",
      "\n",
      "Epoch 00034: saving model to weights-improvement-34-0.00.hdf5\n",
      "\n",
      "Epoch 00035: saving model to weights-improvement-35-0.00.hdf5\n"
     ]
    },
    {
     "name": "stdout",
     "output_type": "stream",
     "text": [
      "\n",
      "Epoch 00036: saving model to weights-improvement-36-0.00.hdf5\n",
      "\n",
      "Epoch 00037: saving model to weights-improvement-37-0.00.hdf5\n",
      "\n",
      "Epoch 00038: saving model to weights-improvement-38-0.00.hdf5\n",
      "\n",
      "Epoch 00039: saving model to weights-improvement-39-0.00.hdf5\n",
      "\n",
      "Epoch 00040: saving model to weights-improvement-40-0.00.hdf5\n",
      "\n",
      "Epoch 00041: saving model to weights-improvement-41-0.00.hdf5\n",
      "\n",
      "Epoch 00042: saving model to weights-improvement-42-0.00.hdf5\n",
      "\n",
      "Epoch 00043: saving model to weights-improvement-43-0.00.hdf5\n",
      "\n",
      "Epoch 00044: saving model to weights-improvement-44-0.00.hdf5\n",
      "\n",
      "Epoch 00045: saving model to weights-improvement-45-0.00.hdf5\n",
      "\n",
      "Epoch 00046: saving model to weights-improvement-46-0.00.hdf5\n",
      "\n",
      "Epoch 00047: saving model to weights-improvement-47-0.00.hdf5\n",
      "\n",
      "Epoch 00048: saving model to weights-improvement-48-0.00.hdf5\n",
      "\n",
      "Epoch 00049: saving model to weights-improvement-49-0.00.hdf5\n",
      "\n",
      "Epoch 00050: saving model to weights-improvement-50-0.00.hdf5\n",
      "\n",
      "Epoch 00051: saving model to weights-improvement-51-0.00.hdf5\n",
      "\n",
      "Epoch 00052: saving model to weights-improvement-52-0.00.hdf5\n",
      "\n",
      "Epoch 00053: saving model to weights-improvement-53-0.00.hdf5\n",
      "\n",
      "Epoch 00054: saving model to weights-improvement-54-0.00.hdf5\n",
      "\n",
      "Epoch 00055: saving model to weights-improvement-55-0.00.hdf5\n",
      "\n",
      "Epoch 00056: saving model to weights-improvement-56-0.00.hdf5\n",
      "\n",
      "Epoch 00057: saving model to weights-improvement-57-0.00.hdf5\n",
      "\n",
      "Epoch 00058: saving model to weights-improvement-58-0.00.hdf5\n",
      "\n",
      "Epoch 00059: saving model to weights-improvement-59-0.00.hdf5\n",
      "\n",
      "Epoch 00060: saving model to weights-improvement-60-0.00.hdf5\n",
      "\n",
      "Epoch 00061: saving model to weights-improvement-61-0.00.hdf5\n",
      "\n",
      "Epoch 00062: saving model to weights-improvement-62-0.00.hdf5\n",
      "\n",
      "Epoch 00063: saving model to weights-improvement-63-0.00.hdf5\n",
      "\n",
      "Epoch 00064: saving model to weights-improvement-64-0.00.hdf5\n",
      "\n",
      "Epoch 00065: saving model to weights-improvement-65-0.00.hdf5\n",
      "\n",
      "Epoch 00066: saving model to weights-improvement-66-0.00.hdf5\n",
      "\n",
      "Epoch 00067: saving model to weights-improvement-67-0.00.hdf5\n",
      "\n",
      "Epoch 00068: saving model to weights-improvement-68-0.00.hdf5\n",
      "\n",
      "Epoch 00069: saving model to weights-improvement-69-0.00.hdf5\n",
      "\n",
      "Epoch 00070: saving model to weights-improvement-70-0.00.hdf5\n",
      "\n",
      "Epoch 00071: saving model to weights-improvement-71-0.00.hdf5\n",
      "\n",
      "Epoch 00072: saving model to weights-improvement-72-0.00.hdf5\n",
      "\n",
      "Epoch 00073: saving model to weights-improvement-73-0.00.hdf5\n",
      "\n",
      "Epoch 00074: saving model to weights-improvement-74-0.00.hdf5\n",
      "\n",
      "Epoch 00075: saving model to weights-improvement-75-0.00.hdf5\n",
      "Wall time: 10min 51s\n"
     ]
    }
   ],
   "source": [
    "%%time\n",
    "k = 4\n",
    "num_val_samples = X_train.shape[0] //k\n",
    "num_epochs = 75\n",
    "all_scores = []\n",
    "all_scores_history = []\n",
    "train_loss_history_list = []\n",
    "train_acc_list = []\n",
    "val_acc_list = []\n",
    "\n",
    "for i in range(k):\n",
    "    print('processing fold #', i)\n",
    "    K.clear_session()  # 清除旧模型，防止模型间干扰\n",
    "    # Prepare the validation data: data from partition # k\n",
    "    val_data = X_train[i * num_val_samples: (i + 1) * num_val_samples]\n",
    "    val_targets = y_train[i * num_val_samples: (i + 1) * num_val_samples]\n",
    "\n",
    "    # Prepare the training data: data from all other partitions\n",
    "    partial_train_data = np.concatenate(\n",
    "        [X_train[:i * num_val_samples],\n",
    "         X_train[(i + 1) * num_val_samples:]],\n",
    "        axis=0)\n",
    "    partial_train_targets = np.concatenate(\n",
    "        [y_train[:i * num_val_samples],\n",
    "         y_train[(i + 1) * num_val_samples:]],\n",
    "        axis=0)\n",
    "\n",
    "    # Build the Keras model (already compiled)              \n",
    "    model = bulid_model_CNN()\n",
    "\n",
    "    history = model.fit(partial_train_data, partial_train_targets,\n",
    "              epochs=num_epochs, batch_size=64, verbose=0, validation_data=(val_data, val_targets),\n",
    "                        callbacks=callbacks_list)\n",
    "        \n",
    "    # Evaluate the model on the validation data\n",
    "    mae_history = history.history['val_loss']\n",
    "    train_loss_history = history.history['loss']\n",
    "    train_acc = history.history[ 'categorical_accuracy']\n",
    "    val_acc = history.history['val_categorical_accuracy']\n",
    "\n",
    "    all_scores_history.append(mae_history)\n",
    "    train_loss_history_list.append(train_loss_history)\n",
    "    train_acc_list.append(train_acc)    \n",
    "    val_acc_list.append(val_acc)\n",
    "    "
   ]
  },
  {
   "cell_type": "code",
   "execution_count": 15,
   "id": "sapphire-sharp",
   "metadata": {
    "ExecuteTime": {
     "end_time": "2021-09-18T04:42:17.662867Z",
     "start_time": "2021-09-18T04:42:17.091334Z"
    }
   },
   "outputs": [
    {
     "data": {
      "image/png": "[encoded data removed]",
      "text/plain": [
       "<IPython.core.display.Image object>"
      ]
     },
     "execution_count": 15,
     "metadata": {},
     "output_type": "execute_result"
    }
   ],
   "source": [
    "from keras.utils import plot_model\n",
    "\n",
    "plot_model(model, show_shapes=True)"
   ]
  },
  {
   "cell_type": "code",
   "execution_count": 16,
   "id": "continued-money",
   "metadata": {
    "ExecuteTime": {
     "end_time": "2021-09-18T04:42:23.284417Z",
     "start_time": "2021-09-18T04:42:22.965197Z"
    }
   },
   "outputs": [
    {
     "data": {
      "image/png": "[encoded data removed]",
      "text/plain": [
       "<Figure size 576x432 with 1 Axes>"
      ]
     },
     "metadata": {
      "needs_background": "light"
     },
     "output_type": "display_data"
    },
    {
     "data": {
      "image/png": "[encoded data removed]",
      "text/plain": [
       "<Figure size 576x432 with 1 Axes>"
      ]
     },
     "metadata": {
      "needs_background": "light"
     },
     "output_type": "display_data"
    }
   ],
   "source": [
    "averaged_history_val_loss = np.mean(np.array(all_scores_history[1:]), axis=0)\n",
    "averaged_history_train_loss = np.mean(np.array(train_loss_history_list[1:]), axis=0)\n",
    "averaged_history_train_acc = np.mean(np.array(train_acc_list[1:]), axis=0)\n",
    "averaged_history_val_acc = np.mean(np.array(val_acc_list[1:]), axis=0)\n",
    "\n",
    "font_size = 16\n",
    "# 绘制训练 & 验证的准确率值\n",
    "plt.figure(figsize=(8, 6))\n",
    "plt.plot(averaged_history_train_acc)\n",
    "plt.plot(averaged_history_val_acc)\n",
    "plt.title('Model accuracy', fontdict={'family' : 'Times New Roman', 'size':font_size})\n",
    "plt.ylabel('Accuracy', fontdict={'family' : 'Times New Roman', 'size':font_size})\n",
    "plt.xlabel('Epoch', fontdict={'family' : 'Times New Roman', 'size':font_size})\n",
    "plt.xticks(fontproperties = 'Times New Roman', fontsize=font_size)\n",
    "plt.yticks(fontproperties = 'Times New Roman', fontsize=font_size)\n",
    "plt.legend(['Train', 'Test'], loc='best', prop={'family':'Times New Roman', 'size':font_size})\n",
    "\n",
    "#plt.savefig('acc.eps',dpi=300, bbox_inches=\"tight\")\n",
    "plt.show()\n",
    "\n",
    "# 绘制训练 & 验证的损失值\n",
    "plt.figure(figsize=(8, 6))\n",
    "plt.plot(averaged_history_train_loss)\n",
    "plt.plot(averaged_history_val_loss)\n",
    "plt.title('Model loss', fontdict={'family' : 'Times New Roman', 'size':font_size})\n",
    "plt.ylabel('Loss', fontdict={'family' : 'Times New Roman', 'size':font_size})\n",
    "plt.xlabel('Epoch', fontdict={'family' : 'Times New Roman', 'size':font_size})\n",
    "plt.legend(['Train', 'Test'], loc='upper right', prop={'family':'Times New Roman', 'size':font_size})\n",
    "plt.xticks(fontproperties = 'Times New Roman', fontsize=font_size)\n",
    "plt.yticks(fontproperties = 'Times New Roman', fontsize=font_size)\n",
    "#plt.savefig('loss.eps',dpi=300, bbox_inches=\"tight\")\n",
    "plt.show()"
   ]
  },
  {
   "cell_type": "code",
   "execution_count": 17,
   "id": "disciplinary-startup",
   "metadata": {
    "ExecuteTime": {
     "end_time": "2021-09-18T04:42:30.388092Z",
     "start_time": "2021-09-18T04:42:30.379064Z"
    }
   },
   "outputs": [],
   "source": [
    "del model"
   ]
  },
  {
   "cell_type": "code",
   "execution_count": 18,
   "id": "suffering-cursor",
   "metadata": {
    "ExecuteTime": {
     "end_time": "2021-09-18T04:42:31.824994Z",
     "start_time": "2021-09-18T04:42:31.602586Z"
    }
   },
   "outputs": [],
   "source": [
    "import seaborn as sns; sns.set()\n",
    "import matplotlib.pyplot as plt\n",
    "import matplotlib as mpl\n",
    "\n",
    "mpl.rcParams['font.family'] = 'Times New Roman'\n",
    "mpl.rcParams['font.size'] = 16"
   ]
  },
  {
   "cell_type": "code",
   "execution_count": 19,
   "id": "rural-monaco",
   "metadata": {
    "ExecuteTime": {
     "end_time": "2021-09-18T04:42:32.967707Z",
     "start_time": "2021-09-18T04:42:32.953745Z"
    }
   },
   "outputs": [],
   "source": [
    "def confusion_matrix(pres, y_test):\n",
    "    cm = np.zeros((8,8))\n",
    "    for id, pre in enumerate(pres):\n",
    "        column = int(pre[0]*4 + pre[1] * 2 + pre[2] * 1 )\n",
    "        row = int(y_test[id, 0]*4 + y_test[id, 1] * 2 + y_test[id, 2] * 1)\n",
    "        cm[row, column] += 1\n",
    "    return cm\n",
    "\n",
    "def heatmap(ma, filename):\n",
    "    labels = [\"000\", \"001\",\"010\",\"011\",\"100\",\"101\",\"110\",\"111\"]\n",
    "    acc = np.round(np.sum(np.diag(ma))/np.sum(ma), 5)\n",
    "    ma = pd.DataFrame(ma, index=labels, columns=labels)\n",
    "    f,ax = plt.subplots(figsize=(9, 6))\n",
    "    ax = sns.heatmap(ma, annot=True, center=11, cmap='RdYlBu')\n",
    "    plt.xlabel(\"Predicted labels\",fontdict={'size':16})\n",
    "    plt.ylabel(\"Target labels\",fontdict={'size':16})\n",
    "    plt.title('Accuracy = %s %%'%str(acc*100))\n",
    "    plt.savefig('%s.eps'%str(filename),dpi=300, bbox_inches=\"tight\")\n",
    "    plt.show()"
   ]
  },
  {
   "cell_type": "code",
   "execution_count": 20,
   "id": "composed-medicare",
   "metadata": {
    "ExecuteTime": {
     "end_time": "2021-09-18T04:42:34.866806Z",
     "start_time": "2021-09-18T04:42:34.857831Z"
    }
   },
   "outputs": [],
   "source": [
    "from keras.models import load_model"
   ]
  },
  {
   "cell_type": "code",
   "execution_count": 21,
   "id": "proof-procurement",
   "metadata": {
    "ExecuteTime": {
     "end_time": "2021-09-18T04:42:46.220506Z",
     "start_time": "2021-09-18T04:42:35.698401Z"
    }
   },
   "outputs": [
    {
     "data": {
      "image/png": "[encoded data removed]",
      "text/plain": [
       "<Figure size 648x432 with 2 Axes>"
      ]
     },
     "metadata": {},
     "output_type": "display_data"
    },
    {
     "data": {
      "image/png": "[encoded data removed]",
      "text/plain": [
       "<Figure size 648x432 with 2 Axes>"
      ]
     },
     "metadata": {},
     "output_type": "display_data"
    },
    {
     "data": {
      "image/png": "[encoded data removed]",
      "text/plain": [
       "<Figure size 648x432 with 2 Axes>"
      ]
     },
     "metadata": {},
     "output_type": "display_data"
    }
   ],
   "source": [
    "models_names = ['weights-improvement-01-0.17.hdf5', 'weights-improvement-02-0.18.hdf5', 'weights-improvement-30-0.01.hdf5']\n",
    "for id, name in  enumerate(models_names):\n",
    "    model = load_model(name)\n",
    "    pre = model.predict(X_test)\n",
    "    cm = confusion_matrix(np.around(pre), y_test)\n",
    "    heatmap(cm, id)"
   ]
  },
  {
   "cell_type": "markdown",
   "id": "exterior-simpson",
   "metadata": {},
   "source": [
    "# 20 bins"
   ]
  },
  {
   "cell_type": "code",
   "execution_count": 1,
   "id": "moved-large",
   "metadata": {
    "ExecuteTime": {
     "end_time": "2021-09-18T04:43:13.151680Z",
     "start_time": "2021-09-18T04:43:13.136422Z"
    }
   },
   "outputs": [
    {
     "name": "stdout",
     "output_type": "stream",
     "text": [
      "C:\\Users\\liuzo\\01 机器学习 物理\\github\\data\\20_bins\\20bins\n"
     ]
    }
   ],
   "source": [
    "%cd ../data/20_bins/20bins"
   ]
  },
  {
   "cell_type": "code",
   "execution_count": 2,
   "id": "rural-senior",
   "metadata": {
    "ExecuteTime": {
     "end_time": "2021-09-18T04:43:15.481641Z",
     "start_time": "2021-09-18T04:43:14.202335Z"
    }
   },
   "outputs": [],
   "source": [
    "import numpy as np\n",
    "import matplotlib.pyplot as plt\n",
    "import pandas as pd\n",
    "import itertools\n",
    "from sklearn.preprocessing import MinMaxScaler\n",
    "from sklearn.model_selection import train_test_split\n",
    "import os"
   ]
  },
  {
   "cell_type": "code",
   "execution_count": 3,
   "id": "moral-analyst",
   "metadata": {
    "ExecuteTime": {
     "end_time": "2021-09-18T04:43:16.442446Z",
     "start_time": "2021-09-18T04:43:16.433471Z"
    }
   },
   "outputs": [],
   "source": [
    "max_min = lambda x: (x-x.min())/(x.max()-x.min())\n",
    "cwd = os.getcwd()\n",
    "def prepare_data():    \n",
    "    X = []\n",
    "    Y = []\n",
    "    for i in list(itertools.product([str(0),str(1)], [str(0),str(1)],[str(0),str(1)])):        \n",
    "        path = os.path.join(cwd, ''.join(i))        \n",
    "        names = os.listdir(path)       \n",
    "        \n",
    "        for name in names:            \n",
    "            X.append(pd.read_csv(os.path.join(path, name), sep='\\t',  usecols=[2]).apply(max_min).to_numpy())            \n",
    "            Y.append(np.array(eval('[' + ','.join(i) + ']')))            \n",
    "        \n",
    "    return np.array(X), np.array(Y)"
   ]
  },
  {
   "cell_type": "code",
   "execution_count": 4,
   "id": "continued-comment",
   "metadata": {
    "ExecuteTime": {
     "end_time": "2021-09-18T04:43:21.829478Z",
     "start_time": "2021-09-18T04:43:18.481701Z"
    }
   },
   "outputs": [],
   "source": [
    "X, Y = prepare_data()"
   ]
  },
  {
   "cell_type": "code",
   "execution_count": 5,
   "id": "after-valuable",
   "metadata": {
    "ExecuteTime": {
     "end_time": "2021-09-18T04:43:34.142320Z",
     "start_time": "2021-09-18T04:43:34.129381Z"
    }
   },
   "outputs": [
    {
     "data": {
      "text/plain": [
       "((326, 1000, 1), (82, 1000, 1), (326, 3), (82, 3))"
      ]
     },
     "execution_count": 5,
     "metadata": {},
     "output_type": "execute_result"
    }
   ],
   "source": [
    "X_train, X_test, y_train, y_test = train_test_split(X, Y, test_size=0.2, random_state=7)\n",
    "X_train.shape, X_test.shape, y_train.shape, y_test.shape"
   ]
  },
  {
   "cell_type": "code",
   "execution_count": 6,
   "id": "helpful-particle",
   "metadata": {
    "ExecuteTime": {
     "end_time": "2021-09-18T04:43:37.103908Z",
     "start_time": "2021-09-18T04:43:37.081994Z"
    }
   },
   "outputs": [],
   "source": [
    "X_train_d = np.zeros((X_train.shape[0]*2, X_train.shape[1],  X_train.shape[2]))\n",
    "y_train_d = np.zeros((y_train.shape[0]*2, y_train.shape[1]))\n",
    "\n",
    "for id  in range(X_train.shape[0]):\n",
    "    X_train_d[id] = X_train[id]\n",
    "    y_train_d[id] = y_train[id]\n",
    "    X_train_d[id + X_train.shape[0]] = X_train[id] + np.random.normal(loc=0, scale=0.5, size = (X_train.shape[1], X_train.shape[2]))\n",
    "    y_train_d[id + X_train.shape[0]] = y_train[id]\n",
    "\n",
    "X_train = X_train_d\n",
    "y_train = y_train_d\n",
    "del X_train_d\n",
    "del y_train_d"
   ]
  },
  {
   "cell_type": "code",
   "execution_count": 7,
   "id": "understanding-generator",
   "metadata": {
    "ExecuteTime": {
     "end_time": "2021-09-18T04:43:38.142964Z",
     "start_time": "2021-09-18T04:43:38.129961Z"
    }
   },
   "outputs": [
    {
     "data": {
      "text/plain": [
       "((652, 1000, 1), (82, 1000, 1), (652, 3), (82, 3))"
      ]
     },
     "execution_count": 7,
     "metadata": {},
     "output_type": "execute_result"
    }
   ],
   "source": [
    "X_train.shape, X_test.shape, y_train.shape, y_test.shape"
   ]
  },
  {
   "cell_type": "code",
   "execution_count": 8,
   "id": "atlantic-insurance",
   "metadata": {
    "ExecuteTime": {
     "end_time": "2021-09-18T04:43:41.350485Z",
     "start_time": "2021-09-18T04:43:39.329665Z"
    }
   },
   "outputs": [
    {
     "name": "stderr",
     "output_type": "stream",
     "text": [
      "Using TensorFlow backend.\n"
     ]
    }
   ],
   "source": [
    "from keras import models\n",
    "from keras import layers\n",
    "from keras.optimizers import RMSprop\n",
    "import numpy as np\n",
    "seed = 7\n",
    "np.random.seed(seed)\n"
   ]
  },
  {
   "cell_type": "code",
   "execution_count": 9,
   "id": "sharp-sellers",
   "metadata": {
    "ExecuteTime": {
     "end_time": "2021-09-18T04:43:41.365865Z",
     "start_time": "2021-09-18T04:43:41.350485Z"
    }
   },
   "outputs": [],
   "source": [
    "from keras import backend as K\n",
    "\n",
    "# Some memory clean-up\n",
    "K.clear_session()"
   ]
  },
  {
   "cell_type": "code",
   "execution_count": 10,
   "id": "hollywood-checklist",
   "metadata": {
    "ExecuteTime": {
     "end_time": "2021-09-18T04:43:41.521519Z",
     "start_time": "2021-09-18T04:43:41.515533Z"
    }
   },
   "outputs": [],
   "source": [
    "def bulid_model_CNN():  \n",
    "    \n",
    "    model_list = []   \n",
    "    \n",
    "    cnn_out_1 = 20 #16\n",
    "    cnn_len_1 = 460 #20\n",
    "    \n",
    "    model_list.append(\n",
    "            layers.Conv1D(cnn_out_1, cnn_len_1, input_shape=(X_train.shape[1],1)),\n",
    "            ) \n",
    "    model_list.append(layers.BatchNormalization())\n",
    "    model_list.append(layers.Activation('relu'))\n",
    "    model_list.append(layers.MaxPooling1D(3))      \n",
    "    \n",
    "    rnn_out = 16  \n",
    "    lr_rate = 1e-3\n",
    "    \n",
    "    \n",
    "    model_list.append(layers.Bidirectional(layers.LSTM(units=rnn_out, return_sequences=False, dropout=0.2, recurrent_dropout=0.2)))\n",
    "    model_list.append(layers.BatchNormalization())\n",
    "    \n",
    "    model_list.append(layers.Dense(y_train.shape[1], activation='sigmoid'))\n",
    "    model = models.Sequential(model_list)   \n",
    "    \n",
    "    \n",
    "    opt = RMSprop(lr=lr_rate)\n",
    "    model.compile(optimizer=opt, loss='mse', metrics=['categorical_accuracy'])\n",
    "   \n",
    "    return model"
   ]
  },
  {
   "cell_type": "code",
   "execution_count": 11,
   "id": "afraid-concept",
   "metadata": {
    "ExecuteTime": {
     "end_time": "2021-09-18T04:43:42.966852Z",
     "start_time": "2021-09-18T04:43:42.953848Z"
    }
   },
   "outputs": [],
   "source": [
    "from keras.callbacks import ReduceLROnPlateau\n",
    "from keras.callbacks import ModelCheckpoint"
   ]
  },
  {
   "cell_type": "code",
   "execution_count": 12,
   "id": "blind-bundle",
   "metadata": {
    "ExecuteTime": {
     "end_time": "2021-09-18T04:43:43.735837Z",
     "start_time": "2021-09-18T04:43:43.721854Z"
    }
   },
   "outputs": [
    {
     "name": "stdout",
     "output_type": "stream",
     "text": [
      "C:\\Users\\liuzo\\01 机器学习 物理\\github\\data\\20_bins\\weights\n"
     ]
    }
   ],
   "source": [
    "%cd ../weights"
   ]
  },
  {
   "cell_type": "code",
   "execution_count": 13,
   "id": "unavailable-nashville",
   "metadata": {
    "ExecuteTime": {
     "end_time": "2021-09-18T04:43:45.670053Z",
     "start_time": "2021-09-18T04:43:45.658044Z"
    }
   },
   "outputs": [],
   "source": [
    "filepath = \"weights-improvement-{epoch:02d}-{val_loss:.2f}.hdf5\"\n",
    "\n",
    "callbacks_list = [ReduceLROnPlateau(monitor='val_loss', factor=0.1, patience=10),\n",
    "                   ModelCheckpoint(filepath, monitor='val_loss', verbose=1, save_best_only=False, mode='min')  ]"
   ]
  },
  {
   "cell_type": "code",
   "execution_count": 14,
   "id": "compact-translator",
   "metadata": {
    "ExecuteTime": {
     "end_time": "2021-09-18T04:54:59.409525Z",
     "start_time": "2021-09-18T04:44:13.568513Z"
    },
    "scrolled": true
   },
   "outputs": [
    {
     "name": "stdout",
     "output_type": "stream",
     "text": [
      "processing fold # 0\n",
      "\n",
      "Epoch 00001: saving model to weights-improvement-01-0.25.hdf5\n",
      "\n",
      "Epoch 00002: saving model to weights-improvement-02-0.25.hdf5\n",
      "\n",
      "Epoch 00003: saving model to weights-improvement-03-0.25.hdf5\n",
      "\n",
      "Epoch 00004: saving model to weights-improvement-04-0.25.hdf5\n",
      "\n",
      "Epoch 00005: saving model to weights-improvement-05-0.25.hdf5\n",
      "\n",
      "Epoch 00006: saving model to weights-improvement-06-0.25.hdf5\n",
      "\n",
      "Epoch 00007: saving model to weights-improvement-07-0.24.hdf5\n",
      "\n",
      "Epoch 00008: saving model to weights-improvement-08-0.25.hdf5\n",
      "\n",
      "Epoch 00009: saving model to weights-improvement-09-0.25.hdf5\n",
      "\n",
      "Epoch 00010: saving model to weights-improvement-10-0.25.hdf5\n",
      "\n",
      "Epoch 00011: saving model to weights-improvement-11-0.23.hdf5\n",
      "\n",
      "Epoch 00012: saving model to weights-improvement-12-0.23.hdf5\n",
      "\n",
      "Epoch 00013: saving model to weights-improvement-13-0.21.hdf5\n",
      "\n",
      "Epoch 00014: saving model to weights-improvement-14-0.22.hdf5\n",
      "\n",
      "Epoch 00015: saving model to weights-improvement-15-0.21.hdf5\n",
      "\n",
      "Epoch 00016: saving model to weights-improvement-16-0.20.hdf5\n",
      "\n",
      "Epoch 00017: saving model to weights-improvement-17-0.19.hdf5\n",
      "\n",
      "Epoch 00018: saving model to weights-improvement-18-0.20.hdf5\n",
      "\n",
      "Epoch 00019: saving model to weights-improvement-19-0.19.hdf5\n",
      "\n",
      "Epoch 00020: saving model to weights-improvement-20-0.16.hdf5\n",
      "\n",
      "Epoch 00021: saving model to weights-improvement-21-0.15.hdf5\n",
      "\n",
      "Epoch 00022: saving model to weights-improvement-22-0.12.hdf5\n",
      "\n",
      "Epoch 00023: saving model to weights-improvement-23-0.11.hdf5\n",
      "\n",
      "Epoch 00024: saving model to weights-improvement-24-0.14.hdf5\n",
      "\n",
      "Epoch 00025: saving model to weights-improvement-25-0.10.hdf5\n",
      "\n",
      "Epoch 00026: saving model to weights-improvement-26-0.16.hdf5\n",
      "\n",
      "Epoch 00027: saving model to weights-improvement-27-0.13.hdf5\n",
      "\n",
      "Epoch 00028: saving model to weights-improvement-28-0.10.hdf5\n",
      "\n",
      "Epoch 00029: saving model to weights-improvement-29-0.04.hdf5\n",
      "\n",
      "Epoch 00030: saving model to weights-improvement-30-0.03.hdf5\n",
      "\n",
      "Epoch 00031: saving model to weights-improvement-31-0.03.hdf5\n",
      "\n",
      "Epoch 00032: saving model to weights-improvement-32-0.03.hdf5\n",
      "\n",
      "Epoch 00033: saving model to weights-improvement-33-0.04.hdf5\n",
      "\n",
      "Epoch 00034: saving model to weights-improvement-34-0.02.hdf5\n",
      "\n",
      "Epoch 00035: saving model to weights-improvement-35-0.01.hdf5\n",
      "\n",
      "Epoch 00036: saving model to weights-improvement-36-0.01.hdf5\n",
      "\n",
      "Epoch 00037: saving model to weights-improvement-37-0.02.hdf5\n",
      "\n",
      "Epoch 00038: saving model to weights-improvement-38-0.02.hdf5\n",
      "\n",
      "Epoch 00039: saving model to weights-improvement-39-0.02.hdf5\n",
      "\n",
      "Epoch 00040: saving model to weights-improvement-40-0.01.hdf5\n",
      "\n",
      "Epoch 00041: saving model to weights-improvement-41-0.02.hdf5\n",
      "\n",
      "Epoch 00042: saving model to weights-improvement-42-0.01.hdf5\n",
      "\n",
      "Epoch 00043: saving model to weights-improvement-43-0.02.hdf5\n",
      "\n",
      "Epoch 00044: saving model to weights-improvement-44-0.01.hdf5\n",
      "\n",
      "Epoch 00045: saving model to weights-improvement-45-0.00.hdf5\n",
      "\n",
      "Epoch 00046: saving model to weights-improvement-46-0.00.hdf5\n",
      "\n",
      "Epoch 00047: saving model to weights-improvement-47-0.00.hdf5\n",
      "\n",
      "Epoch 00048: saving model to weights-improvement-48-0.00.hdf5\n",
      "\n",
      "Epoch 00049: saving model to weights-improvement-49-0.01.hdf5\n",
      "\n",
      "Epoch 00050: saving model to weights-improvement-50-0.00.hdf5\n",
      "\n",
      "Epoch 00051: saving model to weights-improvement-51-0.00.hdf5\n",
      "\n",
      "Epoch 00052: saving model to weights-improvement-52-0.01.hdf5\n",
      "\n",
      "Epoch 00053: saving model to weights-improvement-53-0.00.hdf5\n",
      "\n",
      "Epoch 00054: saving model to weights-improvement-54-0.00.hdf5\n",
      "\n",
      "Epoch 00055: saving model to weights-improvement-55-0.03.hdf5\n",
      "\n",
      "Epoch 00056: saving model to weights-improvement-56-0.00.hdf5\n",
      "\n",
      "Epoch 00057: saving model to weights-improvement-57-0.00.hdf5\n",
      "\n",
      "Epoch 00058: saving model to weights-improvement-58-0.00.hdf5\n",
      "\n",
      "Epoch 00059: saving model to weights-improvement-59-0.00.hdf5\n",
      "\n",
      "Epoch 00060: saving model to weights-improvement-60-0.00.hdf5\n",
      "\n",
      "Epoch 00061: saving model to weights-improvement-61-0.00.hdf5\n",
      "\n",
      "Epoch 00062: saving model to weights-improvement-62-0.00.hdf5\n",
      "\n",
      "Epoch 00063: saving model to weights-improvement-63-0.00.hdf5\n",
      "\n",
      "Epoch 00064: saving model to weights-improvement-64-0.00.hdf5\n",
      "\n",
      "Epoch 00065: saving model to weights-improvement-65-0.00.hdf5\n",
      "\n",
      "Epoch 00066: saving model to weights-improvement-66-0.00.hdf5\n",
      "\n",
      "Epoch 00067: saving model to weights-improvement-67-0.00.hdf5\n",
      "\n",
      "Epoch 00068: saving model to weights-improvement-68-0.00.hdf5\n",
      "\n",
      "Epoch 00069: saving model to weights-improvement-69-0.00.hdf5\n",
      "\n",
      "Epoch 00070: saving model to weights-improvement-70-0.00.hdf5\n",
      "\n",
      "Epoch 00071: saving model to weights-improvement-71-0.00.hdf5\n",
      "\n",
      "Epoch 00072: saving model to weights-improvement-72-0.00.hdf5\n",
      "\n",
      "Epoch 00073: saving model to weights-improvement-73-0.00.hdf5\n",
      "\n",
      "Epoch 00074: saving model to weights-improvement-74-0.00.hdf5\n",
      "\n",
      "Epoch 00075: saving model to weights-improvement-75-0.00.hdf5\n",
      "processing fold # 1\n",
      "\n",
      "Epoch 00001: saving model to weights-improvement-01-0.26.hdf5\n",
      "\n",
      "Epoch 00002: saving model to weights-improvement-02-0.26.hdf5\n",
      "\n",
      "Epoch 00003: saving model to weights-improvement-03-0.26.hdf5\n",
      "\n",
      "Epoch 00004: saving model to weights-improvement-04-0.27.hdf5\n",
      "\n",
      "Epoch 00005: saving model to weights-improvement-05-0.26.hdf5\n",
      "\n",
      "Epoch 00006: saving model to weights-improvement-06-0.26.hdf5\n",
      "\n",
      "Epoch 00007: saving model to weights-improvement-07-0.26.hdf5\n",
      "\n",
      "Epoch 00008: saving model to weights-improvement-08-0.25.hdf5\n",
      "\n",
      "Epoch 00009: saving model to weights-improvement-09-0.26.hdf5\n",
      "\n",
      "Epoch 00010: saving model to weights-improvement-10-0.27.hdf5\n",
      "\n",
      "Epoch 00011: saving model to weights-improvement-11-0.26.hdf5\n",
      "\n",
      "Epoch 00012: saving model to weights-improvement-12-0.23.hdf5\n",
      "\n",
      "Epoch 00013: saving model to weights-improvement-13-0.25.hdf5\n",
      "\n",
      "Epoch 00014: saving model to weights-improvement-14-0.23.hdf5\n",
      "\n",
      "Epoch 00015: saving model to weights-improvement-15-0.23.hdf5\n",
      "\n",
      "Epoch 00016: saving model to weights-improvement-16-0.21.hdf5\n",
      "\n",
      "Epoch 00017: saving model to weights-improvement-17-0.22.hdf5\n",
      "\n",
      "Epoch 00018: saving model to weights-improvement-18-0.21.hdf5\n",
      "\n",
      "Epoch 00019: saving model to weights-improvement-19-0.24.hdf5\n",
      "\n",
      "Epoch 00020: saving model to weights-improvement-20-0.16.hdf5\n",
      "\n",
      "Epoch 00021: saving model to weights-improvement-21-0.20.hdf5\n",
      "\n",
      "Epoch 00022: saving model to weights-improvement-22-0.18.hdf5\n",
      "\n",
      "Epoch 00023: saving model to weights-improvement-23-0.14.hdf5\n",
      "\n",
      "Epoch 00024: saving model to weights-improvement-24-0.12.hdf5\n",
      "\n",
      "Epoch 00025: saving model to weights-improvement-25-0.13.hdf5\n",
      "\n",
      "Epoch 00026: saving model to weights-improvement-26-0.12.hdf5\n",
      "\n",
      "Epoch 00027: saving model to weights-improvement-27-0.08.hdf5\n",
      "\n",
      "Epoch 00028: saving model to weights-improvement-28-0.18.hdf5\n",
      "\n",
      "Epoch 00029: saving model to weights-improvement-29-0.13.hdf5\n",
      "\n",
      "Epoch 00030: saving model to weights-improvement-30-0.12.hdf5\n",
      "\n",
      "Epoch 00031: saving model to weights-improvement-31-0.09.hdf5\n",
      "\n",
      "Epoch 00032: saving model to weights-improvement-32-0.07.hdf5\n",
      "\n",
      "Epoch 00033: saving model to weights-improvement-33-0.15.hdf5\n",
      "\n",
      "Epoch 00034: saving model to weights-improvement-34-0.05.hdf5\n",
      "\n",
      "Epoch 00035: saving model to weights-improvement-35-0.07.hdf5\n",
      "\n",
      "Epoch 00036: saving model to weights-improvement-36-0.03.hdf5\n",
      "\n",
      "Epoch 00037: saving model to weights-improvement-37-0.03.hdf5\n",
      "\n",
      "Epoch 00038: saving model to weights-improvement-38-0.04.hdf5\n",
      "\n",
      "Epoch 00039: saving model to weights-improvement-39-0.01.hdf5\n",
      "\n",
      "Epoch 00040: saving model to weights-improvement-40-0.01.hdf5\n",
      "\n",
      "Epoch 00041: saving model to weights-improvement-41-0.02.hdf5\n",
      "\n",
      "Epoch 00042: saving model to weights-improvement-42-0.03.hdf5\n",
      "\n",
      "Epoch 00043: saving model to weights-improvement-43-0.01.hdf5\n",
      "\n",
      "Epoch 00044: saving model to weights-improvement-44-0.01.hdf5\n",
      "\n",
      "Epoch 00045: saving model to weights-improvement-45-0.04.hdf5\n",
      "\n",
      "Epoch 00046: saving model to weights-improvement-46-0.04.hdf5\n",
      "\n",
      "Epoch 00047: saving model to weights-improvement-47-0.01.hdf5\n",
      "\n",
      "Epoch 00048: saving model to weights-improvement-48-0.02.hdf5\n",
      "\n",
      "Epoch 00049: saving model to weights-improvement-49-0.01.hdf5\n",
      "\n",
      "Epoch 00050: saving model to weights-improvement-50-0.01.hdf5\n",
      "\n",
      "Epoch 00051: saving model to weights-improvement-51-0.01.hdf5\n",
      "\n",
      "Epoch 00052: saving model to weights-improvement-52-0.00.hdf5\n",
      "\n",
      "Epoch 00053: saving model to weights-improvement-53-0.00.hdf5\n",
      "\n",
      "Epoch 00054: saving model to weights-improvement-54-0.00.hdf5\n",
      "\n",
      "Epoch 00055: saving model to weights-improvement-55-0.00.hdf5\n"
     ]
    },
    {
     "name": "stdout",
     "output_type": "stream",
     "text": [
      "\n",
      "Epoch 00056: saving model to weights-improvement-56-0.00.hdf5\n",
      "\n",
      "Epoch 00057: saving model to weights-improvement-57-0.00.hdf5\n",
      "\n",
      "Epoch 00058: saving model to weights-improvement-58-0.02.hdf5\n",
      "\n",
      "Epoch 00059: saving model to weights-improvement-59-0.00.hdf5\n",
      "\n",
      "Epoch 00060: saving model to weights-improvement-60-0.01.hdf5\n",
      "\n",
      "Epoch 00061: saving model to weights-improvement-61-0.00.hdf5\n",
      "\n",
      "Epoch 00062: saving model to weights-improvement-62-0.00.hdf5\n",
      "\n",
      "Epoch 00063: saving model to weights-improvement-63-0.00.hdf5\n",
      "\n",
      "Epoch 00064: saving model to weights-improvement-64-0.02.hdf5\n",
      "\n",
      "Epoch 00065: saving model to weights-improvement-65-0.00.hdf5\n",
      "\n",
      "Epoch 00066: saving model to weights-improvement-66-0.04.hdf5\n",
      "\n",
      "Epoch 00067: saving model to weights-improvement-67-0.05.hdf5\n",
      "\n",
      "Epoch 00068: saving model to weights-improvement-68-0.03.hdf5\n",
      "\n",
      "Epoch 00069: saving model to weights-improvement-69-0.02.hdf5\n",
      "\n",
      "Epoch 00070: saving model to weights-improvement-70-0.01.hdf5\n",
      "\n",
      "Epoch 00071: saving model to weights-improvement-71-0.01.hdf5\n",
      "\n",
      "Epoch 00072: saving model to weights-improvement-72-0.01.hdf5\n",
      "\n",
      "Epoch 00073: saving model to weights-improvement-73-0.00.hdf5\n",
      "\n",
      "Epoch 00074: saving model to weights-improvement-74-0.00.hdf5\n",
      "\n",
      "Epoch 00075: saving model to weights-improvement-75-0.00.hdf5\n",
      "processing fold # 2\n",
      "\n",
      "Epoch 00001: saving model to weights-improvement-01-0.27.hdf5\n",
      "\n",
      "Epoch 00002: saving model to weights-improvement-02-0.27.hdf5\n",
      "\n",
      "Epoch 00003: saving model to weights-improvement-03-0.28.hdf5\n",
      "\n",
      "Epoch 00004: saving model to weights-improvement-04-0.28.hdf5\n",
      "\n",
      "Epoch 00005: saving model to weights-improvement-05-0.28.hdf5\n",
      "\n",
      "Epoch 00006: saving model to weights-improvement-06-0.28.hdf5\n",
      "\n",
      "Epoch 00007: saving model to weights-improvement-07-0.25.hdf5\n",
      "\n",
      "Epoch 00008: saving model to weights-improvement-08-0.27.hdf5\n",
      "\n",
      "Epoch 00009: saving model to weights-improvement-09-0.27.hdf5\n",
      "\n",
      "Epoch 00010: saving model to weights-improvement-10-0.23.hdf5\n",
      "\n",
      "Epoch 00011: saving model to weights-improvement-11-0.26.hdf5\n",
      "\n",
      "Epoch 00012: saving model to weights-improvement-12-0.27.hdf5\n",
      "\n",
      "Epoch 00013: saving model to weights-improvement-13-0.26.hdf5\n",
      "\n",
      "Epoch 00014: saving model to weights-improvement-14-0.25.hdf5\n",
      "\n",
      "Epoch 00015: saving model to weights-improvement-15-0.22.hdf5\n",
      "\n",
      "Epoch 00016: saving model to weights-improvement-16-0.20.hdf5\n",
      "\n",
      "Epoch 00017: saving model to weights-improvement-17-0.18.hdf5\n",
      "\n",
      "Epoch 00018: saving model to weights-improvement-18-0.24.hdf5\n",
      "\n",
      "Epoch 00019: saving model to weights-improvement-19-0.19.hdf5\n",
      "\n",
      "Epoch 00020: saving model to weights-improvement-20-0.15.hdf5\n",
      "\n",
      "Epoch 00021: saving model to weights-improvement-21-0.16.hdf5\n",
      "\n",
      "Epoch 00022: saving model to weights-improvement-22-0.17.hdf5\n",
      "\n",
      "Epoch 00023: saving model to weights-improvement-23-0.24.hdf5\n",
      "\n",
      "Epoch 00024: saving model to weights-improvement-24-0.17.hdf5\n",
      "\n",
      "Epoch 00025: saving model to weights-improvement-25-0.10.hdf5\n",
      "\n",
      "Epoch 00026: saving model to weights-improvement-26-0.08.hdf5\n",
      "\n",
      "Epoch 00027: saving model to weights-improvement-27-0.14.hdf5\n",
      "\n",
      "Epoch 00028: saving model to weights-improvement-28-0.10.hdf5\n",
      "\n",
      "Epoch 00029: saving model to weights-improvement-29-0.11.hdf5\n",
      "\n",
      "Epoch 00030: saving model to weights-improvement-30-0.10.hdf5\n",
      "\n",
      "Epoch 00031: saving model to weights-improvement-31-0.12.hdf5\n",
      "\n",
      "Epoch 00032: saving model to weights-improvement-32-0.17.hdf5\n",
      "\n",
      "Epoch 00033: saving model to weights-improvement-33-0.07.hdf5\n",
      "\n",
      "Epoch 00034: saving model to weights-improvement-34-0.17.hdf5\n",
      "\n",
      "Epoch 00035: saving model to weights-improvement-35-0.13.hdf5\n",
      "\n",
      "Epoch 00036: saving model to weights-improvement-36-0.13.hdf5\n",
      "\n",
      "Epoch 00037: saving model to weights-improvement-37-0.07.hdf5\n",
      "\n",
      "Epoch 00038: saving model to weights-improvement-38-0.15.hdf5\n",
      "\n",
      "Epoch 00039: saving model to weights-improvement-39-0.04.hdf5\n",
      "\n",
      "Epoch 00040: saving model to weights-improvement-40-0.09.hdf5\n",
      "\n",
      "Epoch 00041: saving model to weights-improvement-41-0.05.hdf5\n",
      "\n",
      "Epoch 00042: saving model to weights-improvement-42-0.04.hdf5\n",
      "\n",
      "Epoch 00043: saving model to weights-improvement-43-0.05.hdf5\n",
      "\n",
      "Epoch 00044: saving model to weights-improvement-44-0.05.hdf5\n",
      "\n",
      "Epoch 00045: saving model to weights-improvement-45-0.07.hdf5\n",
      "\n",
      "Epoch 00046: saving model to weights-improvement-46-0.02.hdf5\n",
      "\n",
      "Epoch 00047: saving model to weights-improvement-47-0.03.hdf5\n",
      "\n",
      "Epoch 00048: saving model to weights-improvement-48-0.02.hdf5\n",
      "\n",
      "Epoch 00049: saving model to weights-improvement-49-0.03.hdf5\n",
      "\n",
      "Epoch 00050: saving model to weights-improvement-50-0.14.hdf5\n",
      "\n",
      "Epoch 00051: saving model to weights-improvement-51-0.07.hdf5\n",
      "\n",
      "Epoch 00052: saving model to weights-improvement-52-0.01.hdf5\n",
      "\n",
      "Epoch 00053: saving model to weights-improvement-53-0.02.hdf5\n",
      "\n",
      "Epoch 00054: saving model to weights-improvement-54-0.04.hdf5\n",
      "\n",
      "Epoch 00055: saving model to weights-improvement-55-0.01.hdf5\n",
      "\n",
      "Epoch 00056: saving model to weights-improvement-56-0.04.hdf5\n",
      "\n",
      "Epoch 00057: saving model to weights-improvement-57-0.02.hdf5\n",
      "\n",
      "Epoch 00058: saving model to weights-improvement-58-0.01.hdf5\n",
      "\n",
      "Epoch 00059: saving model to weights-improvement-59-0.05.hdf5\n",
      "\n",
      "Epoch 00060: saving model to weights-improvement-60-0.01.hdf5\n",
      "\n",
      "Epoch 00061: saving model to weights-improvement-61-0.01.hdf5\n",
      "\n",
      "Epoch 00062: saving model to weights-improvement-62-0.13.hdf5\n",
      "\n",
      "Epoch 00063: saving model to weights-improvement-63-0.24.hdf5\n",
      "\n",
      "Epoch 00064: saving model to weights-improvement-64-0.14.hdf5\n",
      "\n",
      "Epoch 00065: saving model to weights-improvement-65-0.08.hdf5\n",
      "\n",
      "Epoch 00066: saving model to weights-improvement-66-0.04.hdf5\n",
      "\n",
      "Epoch 00067: saving model to weights-improvement-67-0.03.hdf5\n",
      "\n",
      "Epoch 00068: saving model to weights-improvement-68-0.02.hdf5\n",
      "\n",
      "Epoch 00069: saving model to weights-improvement-69-0.02.hdf5\n",
      "\n",
      "Epoch 00070: saving model to weights-improvement-70-0.01.hdf5\n",
      "\n",
      "Epoch 00071: saving model to weights-improvement-71-0.01.hdf5\n",
      "\n",
      "Epoch 00072: saving model to weights-improvement-72-0.01.hdf5\n",
      "\n",
      "Epoch 00073: saving model to weights-improvement-73-0.01.hdf5\n",
      "\n",
      "Epoch 00074: saving model to weights-improvement-74-0.01.hdf5\n",
      "\n",
      "Epoch 00075: saving model to weights-improvement-75-0.01.hdf5\n",
      "processing fold # 3\n",
      "\n",
      "Epoch 00001: saving model to weights-improvement-01-0.26.hdf5\n",
      "\n",
      "Epoch 00002: saving model to weights-improvement-02-0.26.hdf5\n",
      "\n",
      "Epoch 00003: saving model to weights-improvement-03-0.27.hdf5\n",
      "\n",
      "Epoch 00004: saving model to weights-improvement-04-0.27.hdf5\n",
      "\n",
      "Epoch 00005: saving model to weights-improvement-05-0.27.hdf5\n",
      "\n",
      "Epoch 00006: saving model to weights-improvement-06-0.27.hdf5\n",
      "\n",
      "Epoch 00007: saving model to weights-improvement-07-0.28.hdf5\n",
      "\n",
      "Epoch 00008: saving model to weights-improvement-08-0.28.hdf5\n",
      "\n",
      "Epoch 00009: saving model to weights-improvement-09-0.28.hdf5\n",
      "\n",
      "Epoch 00010: saving model to weights-improvement-10-0.30.hdf5\n",
      "\n",
      "Epoch 00011: saving model to weights-improvement-11-0.28.hdf5\n",
      "\n",
      "Epoch 00012: saving model to weights-improvement-12-0.28.hdf5\n",
      "\n",
      "Epoch 00013: saving model to weights-improvement-13-0.26.hdf5\n",
      "\n",
      "Epoch 00014: saving model to weights-improvement-14-0.25.hdf5\n",
      "\n",
      "Epoch 00015: saving model to weights-improvement-15-0.24.hdf5\n",
      "\n",
      "Epoch 00016: saving model to weights-improvement-16-0.23.hdf5\n",
      "\n",
      "Epoch 00017: saving model to weights-improvement-17-0.23.hdf5\n",
      "\n",
      "Epoch 00018: saving model to weights-improvement-18-0.21.hdf5\n",
      "\n",
      "Epoch 00019: saving model to weights-improvement-19-0.20.hdf5\n",
      "\n",
      "Epoch 00020: saving model to weights-improvement-20-0.18.hdf5\n",
      "\n",
      "Epoch 00021: saving model to weights-improvement-21-0.17.hdf5\n",
      "\n",
      "Epoch 00022: saving model to weights-improvement-22-0.16.hdf5\n",
      "\n",
      "Epoch 00023: saving model to weights-improvement-23-0.14.hdf5\n",
      "\n",
      "Epoch 00024: saving model to weights-improvement-24-0.13.hdf5\n",
      "\n",
      "Epoch 00025: saving model to weights-improvement-25-0.12.hdf5\n",
      "\n",
      "Epoch 00026: saving model to weights-improvement-26-0.12.hdf5\n",
      "\n",
      "Epoch 00027: saving model to weights-improvement-27-0.11.hdf5\n",
      "\n",
      "Epoch 00028: saving model to weights-improvement-28-0.10.hdf5\n",
      "\n",
      "Epoch 00029: saving model to weights-improvement-29-0.10.hdf5\n",
      "\n",
      "Epoch 00030: saving model to weights-improvement-30-0.09.hdf5\n",
      "\n",
      "Epoch 00031: saving model to weights-improvement-31-0.09.hdf5\n",
      "\n",
      "Epoch 00032: saving model to weights-improvement-32-0.08.hdf5\n",
      "\n",
      "Epoch 00033: saving model to weights-improvement-33-0.07.hdf5\n",
      "\n",
      "Epoch 00034: saving model to weights-improvement-34-0.07.hdf5\n",
      "\n",
      "Epoch 00035: saving model to weights-improvement-35-0.06.hdf5\n"
     ]
    },
    {
     "name": "stdout",
     "output_type": "stream",
     "text": [
      "\n",
      "Epoch 00036: saving model to weights-improvement-36-0.05.hdf5\n",
      "\n",
      "Epoch 00037: saving model to weights-improvement-37-0.05.hdf5\n",
      "\n",
      "Epoch 00038: saving model to weights-improvement-38-0.05.hdf5\n",
      "\n",
      "Epoch 00039: saving model to weights-improvement-39-0.04.hdf5\n",
      "\n",
      "Epoch 00040: saving model to weights-improvement-40-0.04.hdf5\n",
      "\n",
      "Epoch 00041: saving model to weights-improvement-41-0.04.hdf5\n",
      "\n",
      "Epoch 00042: saving model to weights-improvement-42-0.04.hdf5\n",
      "\n",
      "Epoch 00043: saving model to weights-improvement-43-0.04.hdf5\n",
      "\n",
      "Epoch 00044: saving model to weights-improvement-44-0.04.hdf5\n",
      "\n",
      "Epoch 00045: saving model to weights-improvement-45-0.04.hdf5\n",
      "\n",
      "Epoch 00046: saving model to weights-improvement-46-0.04.hdf5\n",
      "\n",
      "Epoch 00047: saving model to weights-improvement-47-0.04.hdf5\n",
      "\n",
      "Epoch 00048: saving model to weights-improvement-48-0.04.hdf5\n",
      "\n",
      "Epoch 00049: saving model to weights-improvement-49-0.03.hdf5\n",
      "\n",
      "Epoch 00050: saving model to weights-improvement-50-0.03.hdf5\n",
      "\n",
      "Epoch 00051: saving model to weights-improvement-51-0.03.hdf5\n",
      "\n",
      "Epoch 00052: saving model to weights-improvement-52-0.03.hdf5\n",
      "\n",
      "Epoch 00053: saving model to weights-improvement-53-0.03.hdf5\n",
      "\n",
      "Epoch 00054: saving model to weights-improvement-54-0.03.hdf5\n",
      "\n",
      "Epoch 00055: saving model to weights-improvement-55-0.03.hdf5\n",
      "\n",
      "Epoch 00056: saving model to weights-improvement-56-0.03.hdf5\n",
      "\n",
      "Epoch 00057: saving model to weights-improvement-57-0.03.hdf5\n",
      "\n",
      "Epoch 00058: saving model to weights-improvement-58-0.03.hdf5\n",
      "\n",
      "Epoch 00059: saving model to weights-improvement-59-0.03.hdf5\n",
      "\n",
      "Epoch 00060: saving model to weights-improvement-60-0.03.hdf5\n",
      "\n",
      "Epoch 00061: saving model to weights-improvement-61-0.02.hdf5\n",
      "\n",
      "Epoch 00062: saving model to weights-improvement-62-0.02.hdf5\n",
      "\n",
      "Epoch 00063: saving model to weights-improvement-63-0.02.hdf5\n",
      "\n",
      "Epoch 00064: saving model to weights-improvement-64-0.02.hdf5\n",
      "\n",
      "Epoch 00065: saving model to weights-improvement-65-0.02.hdf5\n",
      "\n",
      "Epoch 00066: saving model to weights-improvement-66-0.03.hdf5\n",
      "\n",
      "Epoch 00067: saving model to weights-improvement-67-0.03.hdf5\n",
      "\n",
      "Epoch 00068: saving model to weights-improvement-68-0.02.hdf5\n",
      "\n",
      "Epoch 00069: saving model to weights-improvement-69-0.02.hdf5\n",
      "\n",
      "Epoch 00070: saving model to weights-improvement-70-0.02.hdf5\n",
      "\n",
      "Epoch 00071: saving model to weights-improvement-71-0.02.hdf5\n",
      "\n",
      "Epoch 00072: saving model to weights-improvement-72-0.02.hdf5\n",
      "\n",
      "Epoch 00073: saving model to weights-improvement-73-0.02.hdf5\n",
      "\n",
      "Epoch 00074: saving model to weights-improvement-74-0.02.hdf5\n",
      "\n",
      "Epoch 00075: saving model to weights-improvement-75-0.02.hdf5\n"
     ]
    }
   ],
   "source": [
    "k = 4\n",
    "num_val_samples = X_train.shape[0] //k\n",
    "num_epochs = 75\n",
    "all_scores = []\n",
    "all_scores_history = []\n",
    "train_loss_history_list = []\n",
    "train_acc_list = []\n",
    "val_acc_list = []\n",
    "\n",
    "for i in range(k):\n",
    "    print('processing fold #', i)\n",
    "    K.clear_session()  # 清除旧模型，防止模型间干扰\n",
    "    # Prepare the validation data: data from partition # k\n",
    "    val_data = X_train[i * num_val_samples: (i + 1) * num_val_samples]\n",
    "    val_targets = y_train[i * num_val_samples: (i + 1) * num_val_samples]\n",
    "\n",
    "    # Prepare the training data: data from all other partitions\n",
    "    partial_train_data = np.concatenate(\n",
    "        [X_train[:i * num_val_samples],\n",
    "         X_train[(i + 1) * num_val_samples:]],\n",
    "        axis=0)\n",
    "    partial_train_targets = np.concatenate(\n",
    "        [y_train[:i * num_val_samples],\n",
    "         y_train[(i + 1) * num_val_samples:]],\n",
    "        axis=0)\n",
    "\n",
    "    # Build the Keras model (already compiled)              \n",
    "    model = bulid_model_CNN()\n",
    "\n",
    "    history = model.fit(partial_train_data, partial_train_targets,\n",
    "              epochs=num_epochs, batch_size=64, verbose=0, validation_data=(val_data, val_targets),\n",
    "                        callbacks=callbacks_list)\n",
    "        \n",
    "    # Evaluate the model on the validation data\n",
    "    mae_history = history.history['val_loss']\n",
    "    train_loss_history = history.history['loss']\n",
    "    train_acc = history.history[ 'categorical_accuracy']\n",
    "    val_acc = history.history['val_categorical_accuracy']\n",
    "\n",
    "    all_scores_history.append(mae_history)\n",
    "    train_loss_history_list.append(train_loss_history)\n",
    "    train_acc_list.append(train_acc)    \n",
    "    val_acc_list.append(val_acc)\n",
    "    "
   ]
  },
  {
   "cell_type": "code",
   "execution_count": 15,
   "id": "considerable-tribute",
   "metadata": {
    "ExecuteTime": {
     "end_time": "2021-09-18T05:49:54.237230Z",
     "start_time": "2021-09-18T05:49:53.956224Z"
    }
   },
   "outputs": [
    {
     "data": {
      "image/png": "[encoded data removed]",
      "text/plain": [
       "<Figure size 576x432 with 1 Axes>"
      ]
     },
     "metadata": {
      "needs_background": "light"
     },
     "output_type": "display_data"
    },
    {
     "data": {
      "image/png": "[encoded data removed]",
      "text/plain": [
       "<Figure size 576x432 with 1 Axes>"
      ]
     },
     "metadata": {
      "needs_background": "light"
     },
     "output_type": "display_data"
    }
   ],
   "source": [
    "averaged_history_val_loss = np.mean(np.array(all_scores_history[1:]), axis=0)\n",
    "averaged_history_train_loss = np.mean(np.array(train_loss_history_list[1:]), axis=0)\n",
    "averaged_history_train_acc = np.mean(np.array(train_acc_list[1:]), axis=0)\n",
    "averaged_history_val_acc = np.mean(np.array(val_acc_list[1:]), axis=0)\n",
    "\n",
    "font_size = 16\n",
    "# 绘制训练 & 验证的准确率值\n",
    "plt.figure(figsize=(8, 6))\n",
    "plt.plot(averaged_history_train_acc)\n",
    "plt.plot(averaged_history_val_acc)\n",
    "plt.title('Model accuracy', fontdict={'family' : 'Times New Roman', 'size':font_size})\n",
    "plt.ylabel('Accuracy', fontdict={'family' : 'Times New Roman', 'size':font_size})\n",
    "plt.xlabel('Epoch', fontdict={'family' : 'Times New Roman', 'size':font_size})\n",
    "plt.xticks(fontproperties = 'Times New Roman', fontsize=font_size)\n",
    "plt.yticks(fontproperties = 'Times New Roman', fontsize=font_size)\n",
    "plt.legend(['Train', 'Test'], loc='best', prop={'family':'Times New Roman', 'size':font_size})\n",
    "\n",
    "#plt.savefig('acc.eps',dpi=300, bbox_inches=\"tight\")\n",
    "plt.show()\n",
    "\n",
    "# 绘制训练 & 验证的损失值\n",
    "plt.figure(figsize=(8, 6))\n",
    "plt.plot(averaged_history_train_loss)\n",
    "plt.plot(averaged_history_val_loss)\n",
    "plt.title('Model loss', fontdict={'family' : 'Times New Roman', 'size':font_size})\n",
    "plt.ylabel('Loss', fontdict={'family' : 'Times New Roman', 'size':font_size})\n",
    "plt.xlabel('Epoch', fontdict={'family' : 'Times New Roman', 'size':font_size})\n",
    "plt.legend(['Train', 'Test'], loc='upper right', prop={'family':'Times New Roman', 'size':font_size})\n",
    "plt.xticks(fontproperties = 'Times New Roman', fontsize=font_size)\n",
    "plt.yticks(fontproperties = 'Times New Roman', fontsize=font_size)\n",
    "#plt.savefig('loss.eps',dpi=300, bbox_inches=\"tight\")\n",
    "plt.show()"
   ]
  },
  {
   "cell_type": "code",
   "execution_count": 16,
   "id": "dominant-compilation",
   "metadata": {
    "ExecuteTime": {
     "end_time": "2021-09-18T05:50:00.397302Z",
     "start_time": "2021-09-18T05:50:00.307976Z"
    }
   },
   "outputs": [],
   "source": [
    "import seaborn as sns; sns.set()\n",
    "import matplotlib.pyplot as plt\n",
    "import matplotlib as mpl\n",
    "\n",
    "mpl.rcParams['font.family'] = 'Times New Roman'\n",
    "mpl.rcParams['font.size'] = 16"
   ]
  },
  {
   "cell_type": "code",
   "execution_count": 17,
   "id": "solid-miniature",
   "metadata": {
    "ExecuteTime": {
     "end_time": "2021-09-18T05:50:03.131523Z",
     "start_time": "2021-09-18T05:50:03.122548Z"
    }
   },
   "outputs": [],
   "source": [
    "def confusion_matrix(pres, y_test):\n",
    "    cm = np.zeros((8,8))\n",
    "    for id, pre in enumerate(pres):\n",
    "        column = int(pre[0]*4 + pre[1] * 2 + pre[2] * 1 )\n",
    "        row = int(y_test[id, 0]*4 + y_test[id, 1] * 2 + y_test[id, 2] * 1)\n",
    "        cm[row, column] += 1\n",
    "    return cm\n",
    "\n",
    "def heatmap(ma, filename):\n",
    "    labels = [\"000\", \"001\",\"010\",\"011\",\"100\",\"101\",\"110\",\"111\"]\n",
    "    acc = np.round(np.sum(np.diag(ma))/np.sum(ma), 5)\n",
    "    ma = pd.DataFrame(ma, index=labels, columns=labels)\n",
    "    f,ax = plt.subplots(figsize=(9, 6))\n",
    "    ax = sns.heatmap(ma, annot=True, center=11, cmap='RdYlBu')\n",
    "    plt.xlabel(\"Predicted labels\",fontdict={'size':16})\n",
    "    plt.ylabel(\"Target labels\",fontdict={'size':16})\n",
    "    plt.title('Accuracy = %s %%'%str(acc*100))\n",
    "    plt.savefig('%s.eps'%str(filename),dpi=300, bbox_inches=\"tight\")\n",
    "    plt.show()"
   ]
  },
  {
   "cell_type": "code",
   "execution_count": 18,
   "id": "latter-seminar",
   "metadata": {
    "ExecuteTime": {
     "end_time": "2021-09-18T05:50:04.181548Z",
     "start_time": "2021-09-18T05:50:04.178554Z"
    }
   },
   "outputs": [],
   "source": [
    "from keras.models import load_model"
   ]
  },
  {
   "cell_type": "code",
   "execution_count": 19,
   "id": "agricultural-bundle",
   "metadata": {
    "ExecuteTime": {
     "end_time": "2021-09-18T05:50:04.971533Z",
     "start_time": "2021-09-18T05:50:04.962560Z"
    }
   },
   "outputs": [],
   "source": [
    "del model"
   ]
  },
  {
   "cell_type": "code",
   "execution_count": 21,
   "id": "ordered-investment",
   "metadata": {
    "ExecuteTime": {
     "end_time": "2021-09-18T05:51:02.038113Z",
     "start_time": "2021-09-18T05:50:51.634482Z"
    }
   },
   "outputs": [
    {
     "data": {
      "image/png": "[encoded data removed]",
      "text/plain": [
       "<Figure size 648x432 with 2 Axes>"
      ]
     },
     "metadata": {},
     "output_type": "display_data"
    },
    {
     "data": {
      "image/png": "[encoded data removed]",
      "text/plain": [
       "<Figure size 648x432 with 2 Axes>"
      ]
     },
     "metadata": {},
     "output_type": "display_data"
    },
    {
     "data": {
      "image/png": "[encoded data removed]",
      "text/plain": [
       "<Figure size 648x432 with 2 Axes>"
      ]
     },
     "metadata": {},
     "output_type": "display_data"
    }
   ],
   "source": [
    "models_names = ['weights-improvement-01-0.25.hdf5','weights-improvement-58-0.03.hdf5','weights-improvement-64-0.02.hdf5']\n",
    "for id, name in  enumerate(models_names):\n",
    "    model = load_model(name)\n",
    "    pre = model.predict(X_test)\n",
    "    cm = confusion_matrix(np.around(pre), y_test)\n",
    "    heatmap(cm, id)"
   ]
  },
  {
   "cell_type": "markdown",
   "id": "advisory-spank",
   "metadata": {},
   "source": [
    "# 200 Hz"
   ]
  },
  {
   "cell_type": "code",
   "execution_count": 1,
   "id": "steady-still",
   "metadata": {
    "ExecuteTime": {
     "end_time": "2021-09-18T05:51:09.765208Z",
     "start_time": "2021-09-18T05:51:09.750466Z"
    }
   },
   "outputs": [],
   "source": [
    "%cd ../data/resolution/resolution"
   ]
  },
  {
   "cell_type": "code",
   "execution_count": 2,
   "id": "martial-involvement",
   "metadata": {
    "ExecuteTime": {
     "end_time": "2021-09-18T05:51:11.244847Z",
     "start_time": "2021-09-18T05:51:09.964591Z"
    }
   },
   "outputs": [],
   "source": [
    "import numpy as np\n",
    "import matplotlib.pyplot as plt\n",
    "import pandas as pd\n",
    "import itertools\n",
    "from sklearn.preprocessing import MinMaxScaler\n",
    "from sklearn.model_selection import train_test_split\n",
    "import os"
   ]
  },
  {
   "cell_type": "code",
   "execution_count": 3,
   "id": "protected-jamaica",
   "metadata": {
    "ExecuteTime": {
     "end_time": "2021-09-18T05:51:11.621130Z",
     "start_time": "2021-09-18T05:51:11.602139Z"
    }
   },
   "outputs": [],
   "source": [
    "max_min = lambda x: (x-x.min())/(x.max()-x.min())\n",
    "cwd = os.getcwd()\n",
    "\n",
    "def prepare_data():    \n",
    "    X = []\n",
    "    Y = []\n",
    "    for i in list(itertools.product([str(0),str(1)], [str(0),str(1)],[str(0),str(1)])):        \n",
    "        path = os.path.join(cwd, ''.join(i))        \n",
    "        names = os.listdir(path)       \n",
    "        \n",
    "        for name in names:            \n",
    "            X.append(pd.read_csv(os.path.join(path, name), sep='\\t',  usecols=[2]).apply(max_min).to_numpy())            \n",
    "            Y.append(np.array(eval('[' + ','.join(i) + ']')))            \n",
    "        \n",
    "    return np.array(X), np.array(Y)"
   ]
  },
  {
   "cell_type": "code",
   "execution_count": 4,
   "id": "brilliant-klein",
   "metadata": {
    "ExecuteTime": {
     "end_time": "2021-09-18T05:51:16.304382Z",
     "start_time": "2021-09-18T05:51:12.636562Z"
    }
   },
   "outputs": [],
   "source": [
    "X, Y = prepare_data()"
   ]
  },
  {
   "cell_type": "code",
   "execution_count": 5,
   "id": "surface-alloy",
   "metadata": {
    "ExecuteTime": {
     "end_time": "2021-09-18T05:51:16.319352Z",
     "start_time": "2021-09-18T05:51:16.305381Z"
    }
   },
   "outputs": [
    {
     "data": {
      "text/plain": [
       "((390, 1000, 1), (98, 1000, 1), (390, 3), (98, 3))"
      ]
     },
     "execution_count": 5,
     "metadata": {},
     "output_type": "execute_result"
    }
   ],
   "source": [
    "X_train, X_test, y_train, y_test = train_test_split(X, Y, test_size=0.2, random_state=7)\n",
    "X_train.shape, X_test.shape, y_train.shape, y_test.shape"
   ]
  },
  {
   "cell_type": "code",
   "execution_count": 6,
   "id": "white-short",
   "metadata": {
    "ExecuteTime": {
     "end_time": "2021-09-18T05:51:16.350313Z",
     "start_time": "2021-09-18T05:51:16.321361Z"
    }
   },
   "outputs": [],
   "source": [
    "X_train_d = np.zeros((X_train.shape[0]*2, X_train.shape[1],  X_train.shape[2]))\n",
    "y_train_d = np.zeros((y_train.shape[0]*2, y_train.shape[1]))\n",
    "\n",
    "for id  in range(X_train.shape[0]):\n",
    "    X_train_d[id] = X_train[id]\n",
    "    y_train_d[id] = y_train[id]\n",
    "    X_train_d[id + X_train.shape[0]] = X_train[id] + np.random.normal(loc=0, scale=0.5, size = (X_train.shape[1], X_train.shape[2]))\n",
    "    y_train_d[id + X_train.shape[0]] = y_train[id]\n",
    "\n",
    "X_train = X_train_d\n",
    "y_train = y_train_d\n",
    "del X_train_d\n",
    "del y_train_d"
   ]
  },
  {
   "cell_type": "code",
   "execution_count": 7,
   "id": "awful-burke",
   "metadata": {
    "ExecuteTime": {
     "end_time": "2021-09-18T05:51:16.366270Z",
     "start_time": "2021-09-18T05:51:16.352256Z"
    }
   },
   "outputs": [
    {
     "data": {
      "text/plain": [
       "((780, 1000, 1), (98, 1000, 1), (780, 3), (98, 3))"
      ]
     },
     "execution_count": 7,
     "metadata": {},
     "output_type": "execute_result"
    }
   ],
   "source": [
    "X_train.shape, X_test.shape, y_train.shape, y_test.shape"
   ]
  },
  {
   "cell_type": "code",
   "execution_count": 8,
   "id": "sublime-bridge",
   "metadata": {
    "ExecuteTime": {
     "end_time": "2021-09-18T05:51:18.393496Z",
     "start_time": "2021-09-18T05:51:16.367217Z"
    }
   },
   "outputs": [
    {
     "name": "stderr",
     "output_type": "stream",
     "text": [
      "Using TensorFlow backend.\n"
     ]
    }
   ],
   "source": [
    "from keras import models\n",
    "from keras import layers\n",
    "from keras.optimizers import RMSprop\n",
    "import numpy as np\n",
    "seed = 7\n",
    "np.random.seed(seed)\n"
   ]
  },
  {
   "cell_type": "code",
   "execution_count": 9,
   "id": "stuffed-polymer",
   "metadata": {
    "ExecuteTime": {
     "end_time": "2021-09-18T05:51:18.408393Z",
     "start_time": "2021-09-18T05:51:18.395464Z"
    }
   },
   "outputs": [],
   "source": [
    "from keras import backend as K\n",
    "\n",
    "# Some memory clean-up\n",
    "K.clear_session()"
   ]
  },
  {
   "cell_type": "code",
   "execution_count": 10,
   "id": "editorial-purpose",
   "metadata": {
    "ExecuteTime": {
     "end_time": "2021-09-18T05:51:18.424555Z",
     "start_time": "2021-09-18T05:51:18.410397Z"
    }
   },
   "outputs": [],
   "source": [
    "def bulid_model_CNN():  \n",
    "    \n",
    "    model_list = []   \n",
    "    \n",
    "    cnn_out_1 = 20 #16\n",
    "    cnn_len_1 = 460 #20\n",
    "    \n",
    "    model_list.append(\n",
    "            layers.Conv1D(cnn_out_1, cnn_len_1, input_shape=(X_train.shape[1],1)),\n",
    "            ) \n",
    "    model_list.append(layers.BatchNormalization())\n",
    "    model_list.append(layers.Activation('relu'))\n",
    "    model_list.append(layers.MaxPooling1D(3))  \n",
    "        \n",
    "    rnn_out = 16  \n",
    "    lr_rate = 1e-3\n",
    "    \n",
    "    \n",
    "    model_list.append(layers.Bidirectional(layers.LSTM(units=rnn_out, return_sequences=False, dropout=0.2, recurrent_dropout=0.2)))\n",
    "    model_list.append(layers.BatchNormalization())\n",
    "    \n",
    "    model_list.append(layers.Dense(y_train.shape[1], activation='sigmoid'))\n",
    "    model = models.Sequential(model_list)   \n",
    "    \n",
    "    \n",
    "    opt = RMSprop(lr=lr_rate)\n",
    "    model.compile(optimizer=opt, loss='mse', metrics=['categorical_accuracy'])\n",
    "   \n",
    "    return model"
   ]
  },
  {
   "cell_type": "code",
   "execution_count": 11,
   "id": "monthly-kentucky",
   "metadata": {
    "ExecuteTime": {
     "end_time": "2021-09-18T05:51:19.123533Z",
     "start_time": "2021-09-18T05:51:19.115554Z"
    }
   },
   "outputs": [],
   "source": [
    "from keras.callbacks import ReduceLROnPlateau\n",
    "from keras.callbacks import ModelCheckpoint"
   ]
  },
  {
   "cell_type": "code",
   "execution_count": 12,
   "id": "lonely-currency",
   "metadata": {
    "ExecuteTime": {
     "end_time": "2021-09-18T05:51:20.084235Z",
     "start_time": "2021-09-18T05:51:20.074261Z"
    }
   },
   "outputs": [
    {
     "name": "stdout",
     "output_type": "stream",
     "text": [
      "C:\\Users\\liuzo\\01 机器学习 物理\\github\\data\\resolution\\weights\n"
     ]
    }
   ],
   "source": [
    "%cd ../weights"
   ]
  },
  {
   "cell_type": "code",
   "execution_count": 13,
   "id": "stuck-pepper",
   "metadata": {
    "ExecuteTime": {
     "end_time": "2021-09-18T05:51:21.437372Z",
     "start_time": "2021-09-18T05:51:21.419437Z"
    }
   },
   "outputs": [],
   "source": [
    "filepath = \"weights-improvement-{epoch:02d}-{val_loss:.2f}.hdf5\"\n",
    "\n",
    "callbacks_list = [ ReduceLROnPlateau(monitor='val_loss', factor=0.1, patience=10), \n",
    "                  ModelCheckpoint(filepath, monitor='val_loss', verbose=1, save_best_only=False, mode='min') ] "
   ]
  },
  {
   "cell_type": "code",
   "execution_count": 14,
   "id": "organized-british",
   "metadata": {
    "ExecuteTime": {
     "end_time": "2021-09-18T06:08:54.928501Z",
     "start_time": "2021-09-18T05:51:23.690572Z"
    }
   },
   "outputs": [
    {
     "name": "stdout",
     "output_type": "stream",
     "text": [
      "processing fold # 0\n",
      "\n",
      "Epoch 00001: saving model to weights-improvement-01-0.22.hdf5\n",
      "\n",
      "Epoch 00002: saving model to weights-improvement-02-0.22.hdf5\n",
      "\n",
      "Epoch 00003: saving model to weights-improvement-03-0.21.hdf5\n",
      "\n",
      "Epoch 00004: saving model to weights-improvement-04-0.20.hdf5\n",
      "\n",
      "Epoch 00005: saving model to weights-improvement-05-0.20.hdf5\n",
      "\n",
      "Epoch 00006: saving model to weights-improvement-06-0.18.hdf5\n",
      "\n",
      "Epoch 00007: saving model to weights-improvement-07-0.17.hdf5\n",
      "\n",
      "Epoch 00008: saving model to weights-improvement-08-0.16.hdf5\n",
      "\n",
      "Epoch 00009: saving model to weights-improvement-09-0.14.hdf5\n",
      "\n",
      "Epoch 00010: saving model to weights-improvement-10-0.14.hdf5\n",
      "\n",
      "Epoch 00011: saving model to weights-improvement-11-0.14.hdf5\n",
      "\n",
      "Epoch 00012: saving model to weights-improvement-12-0.15.hdf5\n",
      "\n",
      "Epoch 00013: saving model to weights-improvement-13-0.13.hdf5\n",
      "\n",
      "Epoch 00014: saving model to weights-improvement-14-0.12.hdf5\n",
      "\n",
      "Epoch 00015: saving model to weights-improvement-15-0.11.hdf5\n",
      "\n",
      "Epoch 00016: saving model to weights-improvement-16-0.10.hdf5\n",
      "\n",
      "Epoch 00017: saving model to weights-improvement-17-0.09.hdf5\n",
      "\n",
      "Epoch 00018: saving model to weights-improvement-18-0.08.hdf5\n",
      "\n",
      "Epoch 00019: saving model to weights-improvement-19-0.08.hdf5\n",
      "\n",
      "Epoch 00020: saving model to weights-improvement-20-0.08.hdf5\n",
      "\n",
      "Epoch 00021: saving model to weights-improvement-21-0.07.hdf5\n",
      "\n",
      "Epoch 00022: saving model to weights-improvement-22-0.08.hdf5\n",
      "\n",
      "Epoch 00023: saving model to weights-improvement-23-0.07.hdf5\n",
      "\n",
      "Epoch 00024: saving model to weights-improvement-24-0.06.hdf5\n",
      "\n",
      "Epoch 00025: saving model to weights-improvement-25-0.06.hdf5\n",
      "\n",
      "Epoch 00026: saving model to weights-improvement-26-0.05.hdf5\n",
      "\n",
      "Epoch 00027: saving model to weights-improvement-27-0.06.hdf5\n",
      "\n",
      "Epoch 00028: saving model to weights-improvement-28-0.05.hdf5\n",
      "\n",
      "Epoch 00029: saving model to weights-improvement-29-0.04.hdf5\n",
      "\n",
      "Epoch 00030: saving model to weights-improvement-30-0.04.hdf5\n",
      "\n",
      "Epoch 00031: saving model to weights-improvement-31-0.03.hdf5\n",
      "\n",
      "Epoch 00032: saving model to weights-improvement-32-0.03.hdf5\n",
      "\n",
      "Epoch 00033: saving model to weights-improvement-33-0.04.hdf5\n",
      "\n",
      "Epoch 00034: saving model to weights-improvement-34-0.04.hdf5\n",
      "\n",
      "Epoch 00035: saving model to weights-improvement-35-0.03.hdf5\n",
      "\n",
      "Epoch 00036: saving model to weights-improvement-36-0.04.hdf5\n",
      "\n",
      "Epoch 00037: saving model to weights-improvement-37-0.02.hdf5\n",
      "\n",
      "Epoch 00038: saving model to weights-improvement-38-0.02.hdf5\n",
      "\n",
      "Epoch 00039: saving model to weights-improvement-39-0.02.hdf5\n",
      "\n",
      "Epoch 00040: saving model to weights-improvement-40-0.01.hdf5\n",
      "\n",
      "Epoch 00041: saving model to weights-improvement-41-0.02.hdf5\n",
      "\n",
      "Epoch 00042: saving model to weights-improvement-42-0.01.hdf5\n",
      "\n",
      "Epoch 00043: saving model to weights-improvement-43-0.02.hdf5\n",
      "\n",
      "Epoch 00044: saving model to weights-improvement-44-0.02.hdf5\n",
      "\n",
      "Epoch 00045: saving model to weights-improvement-45-0.02.hdf5\n",
      "\n",
      "Epoch 00046: saving model to weights-improvement-46-0.02.hdf5\n",
      "\n",
      "Epoch 00047: saving model to weights-improvement-47-0.02.hdf5\n",
      "\n",
      "Epoch 00048: saving model to weights-improvement-48-0.03.hdf5\n",
      "\n",
      "Epoch 00049: saving model to weights-improvement-49-0.03.hdf5\n",
      "\n",
      "Epoch 00050: saving model to weights-improvement-50-0.06.hdf5\n",
      "\n",
      "Epoch 00051: saving model to weights-improvement-51-0.03.hdf5\n",
      "\n",
      "Epoch 00052: saving model to weights-improvement-52-0.02.hdf5\n",
      "\n",
      "Epoch 00053: saving model to weights-improvement-53-0.02.hdf5\n",
      "\n",
      "Epoch 00054: saving model to weights-improvement-54-0.01.hdf5\n",
      "\n",
      "Epoch 00055: saving model to weights-improvement-55-0.01.hdf5\n",
      "\n",
      "Epoch 00056: saving model to weights-improvement-56-0.01.hdf5\n",
      "\n",
      "Epoch 00057: saving model to weights-improvement-57-0.01.hdf5\n",
      "\n",
      "Epoch 00058: saving model to weights-improvement-58-0.01.hdf5\n",
      "\n",
      "Epoch 00059: saving model to weights-improvement-59-0.01.hdf5\n",
      "\n",
      "Epoch 00060: saving model to weights-improvement-60-0.01.hdf5\n",
      "\n",
      "Epoch 00061: saving model to weights-improvement-61-0.01.hdf5\n",
      "\n",
      "Epoch 00062: saving model to weights-improvement-62-0.01.hdf5\n",
      "\n",
      "Epoch 00063: saving model to weights-improvement-63-0.01.hdf5\n",
      "\n",
      "Epoch 00064: saving model to weights-improvement-64-0.01.hdf5\n",
      "\n",
      "Epoch 00065: saving model to weights-improvement-65-0.01.hdf5\n",
      "\n",
      "Epoch 00066: saving model to weights-improvement-66-0.01.hdf5\n",
      "\n",
      "Epoch 00067: saving model to weights-improvement-67-0.01.hdf5\n",
      "\n",
      "Epoch 00068: saving model to weights-improvement-68-0.01.hdf5\n",
      "\n",
      "Epoch 00069: saving model to weights-improvement-69-0.01.hdf5\n",
      "\n",
      "Epoch 00070: saving model to weights-improvement-70-0.01.hdf5\n",
      "\n",
      "Epoch 00071: saving model to weights-improvement-71-0.01.hdf5\n",
      "\n",
      "Epoch 00072: saving model to weights-improvement-72-0.01.hdf5\n",
      "\n",
      "Epoch 00073: saving model to weights-improvement-73-0.01.hdf5\n",
      "\n",
      "Epoch 00074: saving model to weights-improvement-74-0.01.hdf5\n",
      "\n",
      "Epoch 00075: saving model to weights-improvement-75-0.01.hdf5\n",
      "\n",
      "Epoch 00076: saving model to weights-improvement-76-0.01.hdf5\n",
      "\n",
      "Epoch 00077: saving model to weights-improvement-77-0.01.hdf5\n",
      "\n",
      "Epoch 00078: saving model to weights-improvement-78-0.01.hdf5\n",
      "\n",
      "Epoch 00079: saving model to weights-improvement-79-0.01.hdf5\n",
      "\n",
      "Epoch 00080: saving model to weights-improvement-80-0.01.hdf5\n",
      "\n",
      "Epoch 00081: saving model to weights-improvement-81-0.01.hdf5\n",
      "\n",
      "Epoch 00082: saving model to weights-improvement-82-0.01.hdf5\n",
      "\n",
      "Epoch 00083: saving model to weights-improvement-83-0.01.hdf5\n",
      "\n",
      "Epoch 00084: saving model to weights-improvement-84-0.01.hdf5\n",
      "\n",
      "Epoch 00085: saving model to weights-improvement-85-0.01.hdf5\n",
      "\n",
      "Epoch 00086: saving model to weights-improvement-86-0.01.hdf5\n",
      "\n",
      "Epoch 00087: saving model to weights-improvement-87-0.01.hdf5\n",
      "\n",
      "Epoch 00088: saving model to weights-improvement-88-0.01.hdf5\n",
      "\n",
      "Epoch 00089: saving model to weights-improvement-89-0.01.hdf5\n",
      "\n",
      "Epoch 00090: saving model to weights-improvement-90-0.01.hdf5\n",
      "\n",
      "Epoch 00091: saving model to weights-improvement-91-0.01.hdf5\n",
      "\n",
      "Epoch 00092: saving model to weights-improvement-92-0.01.hdf5\n",
      "\n",
      "Epoch 00093: saving model to weights-improvement-93-0.01.hdf5\n",
      "\n",
      "Epoch 00094: saving model to weights-improvement-94-0.01.hdf5\n",
      "\n",
      "Epoch 00095: saving model to weights-improvement-95-0.01.hdf5\n",
      "\n",
      "Epoch 00096: saving model to weights-improvement-96-0.01.hdf5\n",
      "\n",
      "Epoch 00097: saving model to weights-improvement-97-0.01.hdf5\n",
      "\n",
      "Epoch 00098: saving model to weights-improvement-98-0.01.hdf5\n",
      "\n",
      "Epoch 00099: saving model to weights-improvement-99-0.01.hdf5\n",
      "\n",
      "Epoch 00100: saving model to weights-improvement-100-0.01.hdf5\n",
      "processing fold # 1\n",
      "\n",
      "Epoch 00001: saving model to weights-improvement-01-0.22.hdf5\n",
      "\n",
      "Epoch 00002: saving model to weights-improvement-02-0.22.hdf5\n",
      "\n",
      "Epoch 00003: saving model to weights-improvement-03-0.22.hdf5\n",
      "\n",
      "Epoch 00004: saving model to weights-improvement-04-0.20.hdf5\n",
      "\n",
      "Epoch 00005: saving model to weights-improvement-05-0.20.hdf5\n",
      "\n",
      "Epoch 00006: saving model to weights-improvement-06-0.21.hdf5\n",
      "\n",
      "Epoch 00007: saving model to weights-improvement-07-0.19.hdf5\n",
      "\n",
      "Epoch 00008: saving model to weights-improvement-08-0.17.hdf5\n",
      "\n",
      "Epoch 00009: saving model to weights-improvement-09-0.17.hdf5\n",
      "\n",
      "Epoch 00010: saving model to weights-improvement-10-0.16.hdf5\n",
      "\n",
      "Epoch 00011: saving model to weights-improvement-11-0.15.hdf5\n",
      "\n",
      "Epoch 00012: saving model to weights-improvement-12-0.14.hdf5\n",
      "\n",
      "Epoch 00013: saving model to weights-improvement-13-0.12.hdf5\n",
      "\n",
      "Epoch 00014: saving model to weights-improvement-14-0.11.hdf5\n",
      "\n",
      "Epoch 00015: saving model to weights-improvement-15-0.11.hdf5\n",
      "\n",
      "Epoch 00016: saving model to weights-improvement-16-0.10.hdf5\n",
      "\n",
      "Epoch 00017: saving model to weights-improvement-17-0.10.hdf5\n",
      "\n",
      "Epoch 00018: saving model to weights-improvement-18-0.08.hdf5\n",
      "\n",
      "Epoch 00019: saving model to weights-improvement-19-0.08.hdf5\n",
      "\n",
      "Epoch 00020: saving model to weights-improvement-20-0.08.hdf5\n",
      "\n",
      "Epoch 00021: saving model to weights-improvement-21-0.09.hdf5\n",
      "\n",
      "Epoch 00022: saving model to weights-improvement-22-0.08.hdf5\n",
      "\n",
      "Epoch 00023: saving model to weights-improvement-23-0.07.hdf5\n",
      "\n",
      "Epoch 00024: saving model to weights-improvement-24-0.06.hdf5\n",
      "\n",
      "Epoch 00025: saving model to weights-improvement-25-0.08.hdf5\n",
      "\n",
      "Epoch 00026: saving model to weights-improvement-26-0.07.hdf5\n",
      "\n",
      "Epoch 00027: saving model to weights-improvement-27-0.06.hdf5\n",
      "\n",
      "Epoch 00028: saving model to weights-improvement-28-0.04.hdf5\n",
      "\n",
      "Epoch 00029: saving model to weights-improvement-29-0.04.hdf5\n",
      "\n",
      "Epoch 00030: saving model to weights-improvement-30-0.08.hdf5\n"
     ]
    },
    {
     "name": "stdout",
     "output_type": "stream",
     "text": [
      "\n",
      "Epoch 00031: saving model to weights-improvement-31-0.04.hdf5\n",
      "\n",
      "Epoch 00032: saving model to weights-improvement-32-0.05.hdf5\n",
      "\n",
      "Epoch 00033: saving model to weights-improvement-33-0.03.hdf5\n",
      "\n",
      "Epoch 00034: saving model to weights-improvement-34-0.04.hdf5\n",
      "\n",
      "Epoch 00035: saving model to weights-improvement-35-0.03.hdf5\n",
      "\n",
      "Epoch 00036: saving model to weights-improvement-36-0.02.hdf5\n",
      "\n",
      "Epoch 00037: saving model to weights-improvement-37-0.05.hdf5\n",
      "\n",
      "Epoch 00038: saving model to weights-improvement-38-0.03.hdf5\n",
      "\n",
      "Epoch 00039: saving model to weights-improvement-39-0.05.hdf5\n",
      "\n",
      "Epoch 00040: saving model to weights-improvement-40-0.04.hdf5\n",
      "\n",
      "Epoch 00041: saving model to weights-improvement-41-0.03.hdf5\n",
      "\n",
      "Epoch 00042: saving model to weights-improvement-42-0.02.hdf5\n",
      "\n",
      "Epoch 00043: saving model to weights-improvement-43-0.03.hdf5\n",
      "\n",
      "Epoch 00044: saving model to weights-improvement-44-0.02.hdf5\n",
      "\n",
      "Epoch 00045: saving model to weights-improvement-45-0.03.hdf5\n",
      "\n",
      "Epoch 00046: saving model to weights-improvement-46-0.03.hdf5\n",
      "\n",
      "Epoch 00047: saving model to weights-improvement-47-0.03.hdf5\n",
      "\n",
      "Epoch 00048: saving model to weights-improvement-48-0.05.hdf5\n",
      "\n",
      "Epoch 00049: saving model to weights-improvement-49-0.03.hdf5\n",
      "\n",
      "Epoch 00050: saving model to weights-improvement-50-0.04.hdf5\n",
      "\n",
      "Epoch 00051: saving model to weights-improvement-51-0.04.hdf5\n",
      "\n",
      "Epoch 00052: saving model to weights-improvement-52-0.03.hdf5\n",
      "\n",
      "Epoch 00053: saving model to weights-improvement-53-0.03.hdf5\n",
      "\n",
      "Epoch 00054: saving model to weights-improvement-54-0.04.hdf5\n",
      "\n",
      "Epoch 00055: saving model to weights-improvement-55-0.03.hdf5\n",
      "\n",
      "Epoch 00056: saving model to weights-improvement-56-0.02.hdf5\n",
      "\n",
      "Epoch 00057: saving model to weights-improvement-57-0.02.hdf5\n",
      "\n",
      "Epoch 00058: saving model to weights-improvement-58-0.02.hdf5\n",
      "\n",
      "Epoch 00059: saving model to weights-improvement-59-0.02.hdf5\n",
      "\n",
      "Epoch 00060: saving model to weights-improvement-60-0.02.hdf5\n",
      "\n",
      "Epoch 00061: saving model to weights-improvement-61-0.02.hdf5\n",
      "\n",
      "Epoch 00062: saving model to weights-improvement-62-0.02.hdf5\n",
      "\n",
      "Epoch 00063: saving model to weights-improvement-63-0.02.hdf5\n",
      "\n",
      "Epoch 00064: saving model to weights-improvement-64-0.02.hdf5\n",
      "\n",
      "Epoch 00065: saving model to weights-improvement-65-0.02.hdf5\n",
      "\n",
      "Epoch 00066: saving model to weights-improvement-66-0.02.hdf5\n",
      "\n",
      "Epoch 00067: saving model to weights-improvement-67-0.02.hdf5\n",
      "\n",
      "Epoch 00068: saving model to weights-improvement-68-0.02.hdf5\n",
      "\n",
      "Epoch 00069: saving model to weights-improvement-69-0.02.hdf5\n",
      "\n",
      "Epoch 00070: saving model to weights-improvement-70-0.02.hdf5\n",
      "\n",
      "Epoch 00071: saving model to weights-improvement-71-0.02.hdf5\n",
      "\n",
      "Epoch 00072: saving model to weights-improvement-72-0.02.hdf5\n",
      "\n",
      "Epoch 00073: saving model to weights-improvement-73-0.02.hdf5\n",
      "\n",
      "Epoch 00074: saving model to weights-improvement-74-0.02.hdf5\n",
      "\n",
      "Epoch 00075: saving model to weights-improvement-75-0.02.hdf5\n",
      "\n",
      "Epoch 00076: saving model to weights-improvement-76-0.02.hdf5\n",
      "\n",
      "Epoch 00077: saving model to weights-improvement-77-0.02.hdf5\n",
      "\n",
      "Epoch 00078: saving model to weights-improvement-78-0.02.hdf5\n",
      "\n",
      "Epoch 00079: saving model to weights-improvement-79-0.02.hdf5\n",
      "\n",
      "Epoch 00080: saving model to weights-improvement-80-0.02.hdf5\n",
      "\n",
      "Epoch 00081: saving model to weights-improvement-81-0.02.hdf5\n",
      "\n",
      "Epoch 00082: saving model to weights-improvement-82-0.02.hdf5\n",
      "\n",
      "Epoch 00083: saving model to weights-improvement-83-0.02.hdf5\n",
      "\n",
      "Epoch 00084: saving model to weights-improvement-84-0.02.hdf5\n",
      "\n",
      "Epoch 00085: saving model to weights-improvement-85-0.02.hdf5\n",
      "\n",
      "Epoch 00086: saving model to weights-improvement-86-0.02.hdf5\n",
      "\n",
      "Epoch 00087: saving model to weights-improvement-87-0.02.hdf5\n",
      "\n",
      "Epoch 00088: saving model to weights-improvement-88-0.02.hdf5\n",
      "\n",
      "Epoch 00089: saving model to weights-improvement-89-0.02.hdf5\n",
      "\n",
      "Epoch 00090: saving model to weights-improvement-90-0.02.hdf5\n",
      "\n",
      "Epoch 00091: saving model to weights-improvement-91-0.02.hdf5\n",
      "\n",
      "Epoch 00092: saving model to weights-improvement-92-0.02.hdf5\n",
      "\n",
      "Epoch 00093: saving model to weights-improvement-93-0.02.hdf5\n",
      "\n",
      "Epoch 00094: saving model to weights-improvement-94-0.02.hdf5\n",
      "\n",
      "Epoch 00095: saving model to weights-improvement-95-0.02.hdf5\n",
      "\n",
      "Epoch 00096: saving model to weights-improvement-96-0.02.hdf5\n",
      "\n",
      "Epoch 00097: saving model to weights-improvement-97-0.02.hdf5\n",
      "\n",
      "Epoch 00098: saving model to weights-improvement-98-0.02.hdf5\n",
      "\n",
      "Epoch 00099: saving model to weights-improvement-99-0.02.hdf5\n",
      "\n",
      "Epoch 00100: saving model to weights-improvement-100-0.02.hdf5\n",
      "processing fold # 2\n",
      "\n",
      "Epoch 00001: saving model to weights-improvement-01-0.22.hdf5\n",
      "\n",
      "Epoch 00002: saving model to weights-improvement-02-0.22.hdf5\n",
      "\n",
      "Epoch 00003: saving model to weights-improvement-03-0.21.hdf5\n",
      "\n",
      "Epoch 00004: saving model to weights-improvement-04-0.20.hdf5\n",
      "\n",
      "Epoch 00005: saving model to weights-improvement-05-0.19.hdf5\n",
      "\n",
      "Epoch 00006: saving model to weights-improvement-06-0.18.hdf5\n",
      "\n",
      "Epoch 00007: saving model to weights-improvement-07-0.18.hdf5\n",
      "\n",
      "Epoch 00008: saving model to weights-improvement-08-0.20.hdf5\n",
      "\n",
      "Epoch 00009: saving model to weights-improvement-09-0.18.hdf5\n",
      "\n",
      "Epoch 00010: saving model to weights-improvement-10-0.15.hdf5\n",
      "\n",
      "Epoch 00011: saving model to weights-improvement-11-0.17.hdf5\n",
      "\n",
      "Epoch 00012: saving model to weights-improvement-12-0.13.hdf5\n",
      "\n",
      "Epoch 00013: saving model to weights-improvement-13-0.11.hdf5\n",
      "\n",
      "Epoch 00014: saving model to weights-improvement-14-0.10.hdf5\n",
      "\n",
      "Epoch 00015: saving model to weights-improvement-15-0.11.hdf5\n",
      "\n",
      "Epoch 00016: saving model to weights-improvement-16-0.10.hdf5\n",
      "\n",
      "Epoch 00017: saving model to weights-improvement-17-0.10.hdf5\n",
      "\n",
      "Epoch 00018: saving model to weights-improvement-18-0.08.hdf5\n",
      "\n",
      "Epoch 00019: saving model to weights-improvement-19-0.08.hdf5\n",
      "\n",
      "Epoch 00020: saving model to weights-improvement-20-0.19.hdf5\n",
      "\n",
      "Epoch 00021: saving model to weights-improvement-21-0.09.hdf5\n",
      "\n",
      "Epoch 00022: saving model to weights-improvement-22-0.06.hdf5\n",
      "\n",
      "Epoch 00023: saving model to weights-improvement-23-0.05.hdf5\n",
      "\n",
      "Epoch 00024: saving model to weights-improvement-24-0.19.hdf5\n",
      "\n",
      "Epoch 00025: saving model to weights-improvement-25-0.05.hdf5\n",
      "\n",
      "Epoch 00026: saving model to weights-improvement-26-0.04.hdf5\n",
      "\n",
      "Epoch 00027: saving model to weights-improvement-27-0.05.hdf5\n",
      "\n",
      "Epoch 00028: saving model to weights-improvement-28-0.05.hdf5\n",
      "\n",
      "Epoch 00029: saving model to weights-improvement-29-0.05.hdf5\n",
      "\n",
      "Epoch 00030: saving model to weights-improvement-30-0.08.hdf5\n",
      "\n",
      "Epoch 00031: saving model to weights-improvement-31-0.05.hdf5\n",
      "\n",
      "Epoch 00032: saving model to weights-improvement-32-0.04.hdf5\n",
      "\n",
      "Epoch 00033: saving model to weights-improvement-33-0.05.hdf5\n",
      "\n",
      "Epoch 00034: saving model to weights-improvement-34-0.04.hdf5\n",
      "\n",
      "Epoch 00035: saving model to weights-improvement-35-0.04.hdf5\n",
      "\n",
      "Epoch 00036: saving model to weights-improvement-36-0.06.hdf5\n",
      "\n",
      "Epoch 00037: saving model to weights-improvement-37-0.04.hdf5\n",
      "\n",
      "Epoch 00038: saving model to weights-improvement-38-0.07.hdf5\n",
      "\n",
      "Epoch 00039: saving model to weights-improvement-39-0.04.hdf5\n",
      "\n",
      "Epoch 00040: saving model to weights-improvement-40-0.06.hdf5\n",
      "\n",
      "Epoch 00041: saving model to weights-improvement-41-0.03.hdf5\n",
      "\n",
      "Epoch 00042: saving model to weights-improvement-42-0.04.hdf5\n",
      "\n",
      "Epoch 00043: saving model to weights-improvement-43-0.05.hdf5\n",
      "\n",
      "Epoch 00044: saving model to weights-improvement-44-0.03.hdf5\n",
      "\n",
      "Epoch 00045: saving model to weights-improvement-45-0.04.hdf5\n",
      "\n",
      "Epoch 00046: saving model to weights-improvement-46-0.04.hdf5\n",
      "\n",
      "Epoch 00047: saving model to weights-improvement-47-0.03.hdf5\n",
      "\n",
      "Epoch 00048: saving model to weights-improvement-48-0.04.hdf5\n",
      "\n",
      "Epoch 00049: saving model to weights-improvement-49-0.05.hdf5\n",
      "\n",
      "Epoch 00050: saving model to weights-improvement-50-0.06.hdf5\n",
      "\n",
      "Epoch 00051: saving model to weights-improvement-51-0.05.hdf5\n",
      "\n",
      "Epoch 00052: saving model to weights-improvement-52-0.03.hdf5\n",
      "\n",
      "Epoch 00053: saving model to weights-improvement-53-0.03.hdf5\n",
      "\n",
      "Epoch 00054: saving model to weights-improvement-54-0.04.hdf5\n",
      "\n",
      "Epoch 00055: saving model to weights-improvement-55-0.05.hdf5\n",
      "\n",
      "Epoch 00056: saving model to weights-improvement-56-0.03.hdf5\n",
      "\n",
      "Epoch 00057: saving model to weights-improvement-57-0.03.hdf5\n",
      "\n",
      "Epoch 00058: saving model to weights-improvement-58-0.04.hdf5\n",
      "\n",
      "Epoch 00059: saving model to weights-improvement-59-0.06.hdf5\n",
      "\n",
      "Epoch 00060: saving model to weights-improvement-60-0.04.hdf5\n"
     ]
    },
    {
     "name": "stdout",
     "output_type": "stream",
     "text": [
      "\n",
      "Epoch 00061: saving model to weights-improvement-61-0.04.hdf5\n",
      "\n",
      "Epoch 00062: saving model to weights-improvement-62-0.04.hdf5\n",
      "\n",
      "Epoch 00063: saving model to weights-improvement-63-0.04.hdf5\n",
      "\n",
      "Epoch 00064: saving model to weights-improvement-64-0.04.hdf5\n",
      "\n",
      "Epoch 00065: saving model to weights-improvement-65-0.04.hdf5\n",
      "\n",
      "Epoch 00066: saving model to weights-improvement-66-0.03.hdf5\n",
      "\n",
      "Epoch 00067: saving model to weights-improvement-67-0.04.hdf5\n",
      "\n",
      "Epoch 00068: saving model to weights-improvement-68-0.04.hdf5\n",
      "\n",
      "Epoch 00069: saving model to weights-improvement-69-0.03.hdf5\n",
      "\n",
      "Epoch 00070: saving model to weights-improvement-70-0.03.hdf5\n",
      "\n",
      "Epoch 00071: saving model to weights-improvement-71-0.03.hdf5\n",
      "\n",
      "Epoch 00072: saving model to weights-improvement-72-0.03.hdf5\n",
      "\n",
      "Epoch 00073: saving model to weights-improvement-73-0.03.hdf5\n",
      "\n",
      "Epoch 00074: saving model to weights-improvement-74-0.03.hdf5\n",
      "\n",
      "Epoch 00075: saving model to weights-improvement-75-0.02.hdf5\n",
      "\n",
      "Epoch 00076: saving model to weights-improvement-76-0.02.hdf5\n",
      "\n",
      "Epoch 00077: saving model to weights-improvement-77-0.03.hdf5\n",
      "\n",
      "Epoch 00078: saving model to weights-improvement-78-0.03.hdf5\n",
      "\n",
      "Epoch 00079: saving model to weights-improvement-79-0.03.hdf5\n",
      "\n",
      "Epoch 00080: saving model to weights-improvement-80-0.03.hdf5\n",
      "\n",
      "Epoch 00081: saving model to weights-improvement-81-0.03.hdf5\n",
      "\n",
      "Epoch 00082: saving model to weights-improvement-82-0.03.hdf5\n",
      "\n",
      "Epoch 00083: saving model to weights-improvement-83-0.03.hdf5\n",
      "\n",
      "Epoch 00084: saving model to weights-improvement-84-0.03.hdf5\n",
      "\n",
      "Epoch 00085: saving model to weights-improvement-85-0.03.hdf5\n",
      "\n",
      "Epoch 00086: saving model to weights-improvement-86-0.03.hdf5\n",
      "\n",
      "Epoch 00087: saving model to weights-improvement-87-0.03.hdf5\n",
      "\n",
      "Epoch 00088: saving model to weights-improvement-88-0.03.hdf5\n",
      "\n",
      "Epoch 00089: saving model to weights-improvement-89-0.03.hdf5\n",
      "\n",
      "Epoch 00090: saving model to weights-improvement-90-0.03.hdf5\n",
      "\n",
      "Epoch 00091: saving model to weights-improvement-91-0.03.hdf5\n",
      "\n",
      "Epoch 00092: saving model to weights-improvement-92-0.03.hdf5\n",
      "\n",
      "Epoch 00093: saving model to weights-improvement-93-0.03.hdf5\n",
      "\n",
      "Epoch 00094: saving model to weights-improvement-94-0.03.hdf5\n",
      "\n",
      "Epoch 00095: saving model to weights-improvement-95-0.03.hdf5\n",
      "\n",
      "Epoch 00096: saving model to weights-improvement-96-0.03.hdf5\n",
      "\n",
      "Epoch 00097: saving model to weights-improvement-97-0.03.hdf5\n",
      "\n",
      "Epoch 00098: saving model to weights-improvement-98-0.03.hdf5\n",
      "\n",
      "Epoch 00099: saving model to weights-improvement-99-0.03.hdf5\n",
      "\n",
      "Epoch 00100: saving model to weights-improvement-100-0.03.hdf5\n",
      "processing fold # 3\n",
      "\n",
      "Epoch 00001: saving model to weights-improvement-01-0.22.hdf5\n",
      "\n",
      "Epoch 00002: saving model to weights-improvement-02-0.20.hdf5\n",
      "\n",
      "Epoch 00003: saving model to weights-improvement-03-0.20.hdf5\n",
      "\n",
      "Epoch 00004: saving model to weights-improvement-04-0.19.hdf5\n",
      "\n",
      "Epoch 00005: saving model to weights-improvement-05-0.19.hdf5\n",
      "\n",
      "Epoch 00006: saving model to weights-improvement-06-0.19.hdf5\n",
      "\n",
      "Epoch 00007: saving model to weights-improvement-07-0.16.hdf5\n",
      "\n",
      "Epoch 00008: saving model to weights-improvement-08-0.17.hdf5\n",
      "\n",
      "Epoch 00009: saving model to weights-improvement-09-0.15.hdf5\n",
      "\n",
      "Epoch 00010: saving model to weights-improvement-10-0.14.hdf5\n",
      "\n",
      "Epoch 00011: saving model to weights-improvement-11-0.14.hdf5\n",
      "\n",
      "Epoch 00012: saving model to weights-improvement-12-0.11.hdf5\n",
      "\n",
      "Epoch 00013: saving model to weights-improvement-13-0.11.hdf5\n",
      "\n",
      "Epoch 00014: saving model to weights-improvement-14-0.08.hdf5\n",
      "\n",
      "Epoch 00015: saving model to weights-improvement-15-0.08.hdf5\n",
      "\n",
      "Epoch 00016: saving model to weights-improvement-16-0.07.hdf5\n",
      "\n",
      "Epoch 00017: saving model to weights-improvement-17-0.09.hdf5\n",
      "\n",
      "Epoch 00018: saving model to weights-improvement-18-0.08.hdf5\n",
      "\n",
      "Epoch 00019: saving model to weights-improvement-19-0.09.hdf5\n",
      "\n",
      "Epoch 00020: saving model to weights-improvement-20-0.05.hdf5\n",
      "\n",
      "Epoch 00021: saving model to weights-improvement-21-0.08.hdf5\n",
      "\n",
      "Epoch 00022: saving model to weights-improvement-22-0.05.hdf5\n",
      "\n",
      "Epoch 00023: saving model to weights-improvement-23-0.04.hdf5\n",
      "\n",
      "Epoch 00024: saving model to weights-improvement-24-0.10.hdf5\n",
      "\n",
      "Epoch 00025: saving model to weights-improvement-25-0.05.hdf5\n",
      "\n",
      "Epoch 00026: saving model to weights-improvement-26-0.05.hdf5\n",
      "\n",
      "Epoch 00027: saving model to weights-improvement-27-0.04.hdf5\n",
      "\n",
      "Epoch 00028: saving model to weights-improvement-28-0.04.hdf5\n",
      "\n",
      "Epoch 00029: saving model to weights-improvement-29-0.06.hdf5\n",
      "\n",
      "Epoch 00030: saving model to weights-improvement-30-0.03.hdf5\n",
      "\n",
      "Epoch 00031: saving model to weights-improvement-31-0.09.hdf5\n",
      "\n",
      "Epoch 00032: saving model to weights-improvement-32-0.04.hdf5\n",
      "\n",
      "Epoch 00033: saving model to weights-improvement-33-0.08.hdf5\n",
      "\n",
      "Epoch 00034: saving model to weights-improvement-34-0.05.hdf5\n",
      "\n",
      "Epoch 00035: saving model to weights-improvement-35-0.04.hdf5\n",
      "\n",
      "Epoch 00036: saving model to weights-improvement-36-0.05.hdf5\n",
      "\n",
      "Epoch 00037: saving model to weights-improvement-37-0.05.hdf5\n",
      "\n",
      "Epoch 00038: saving model to weights-improvement-38-0.05.hdf5\n",
      "\n",
      "Epoch 00039: saving model to weights-improvement-39-0.06.hdf5\n",
      "\n",
      "Epoch 00040: saving model to weights-improvement-40-0.04.hdf5\n",
      "\n",
      "Epoch 00041: saving model to weights-improvement-41-0.04.hdf5\n",
      "\n",
      "Epoch 00042: saving model to weights-improvement-42-0.03.hdf5\n",
      "\n",
      "Epoch 00043: saving model to weights-improvement-43-0.03.hdf5\n",
      "\n",
      "Epoch 00044: saving model to weights-improvement-44-0.03.hdf5\n",
      "\n",
      "Epoch 00045: saving model to weights-improvement-45-0.03.hdf5\n",
      "\n",
      "Epoch 00046: saving model to weights-improvement-46-0.03.hdf5\n",
      "\n",
      "Epoch 00047: saving model to weights-improvement-47-0.03.hdf5\n",
      "\n",
      "Epoch 00048: saving model to weights-improvement-48-0.03.hdf5\n",
      "\n",
      "Epoch 00049: saving model to weights-improvement-49-0.03.hdf5\n",
      "\n",
      "Epoch 00050: saving model to weights-improvement-50-0.03.hdf5\n",
      "\n",
      "Epoch 00051: saving model to weights-improvement-51-0.02.hdf5\n",
      "\n",
      "Epoch 00052: saving model to weights-improvement-52-0.03.hdf5\n",
      "\n",
      "Epoch 00053: saving model to weights-improvement-53-0.03.hdf5\n",
      "\n",
      "Epoch 00054: saving model to weights-improvement-54-0.03.hdf5\n",
      "\n",
      "Epoch 00055: saving model to weights-improvement-55-0.03.hdf5\n",
      "\n",
      "Epoch 00056: saving model to weights-improvement-56-0.03.hdf5\n",
      "\n",
      "Epoch 00057: saving model to weights-improvement-57-0.02.hdf5\n",
      "\n",
      "Epoch 00058: saving model to weights-improvement-58-0.02.hdf5\n",
      "\n",
      "Epoch 00059: saving model to weights-improvement-59-0.03.hdf5\n",
      "\n",
      "Epoch 00060: saving model to weights-improvement-60-0.03.hdf5\n",
      "\n",
      "Epoch 00061: saving model to weights-improvement-61-0.03.hdf5\n",
      "\n",
      "Epoch 00062: saving model to weights-improvement-62-0.03.hdf5\n",
      "\n",
      "Epoch 00063: saving model to weights-improvement-63-0.03.hdf5\n",
      "\n",
      "Epoch 00064: saving model to weights-improvement-64-0.03.hdf5\n",
      "\n",
      "Epoch 00065: saving model to weights-improvement-65-0.03.hdf5\n",
      "\n",
      "Epoch 00066: saving model to weights-improvement-66-0.03.hdf5\n",
      "\n",
      "Epoch 00067: saving model to weights-improvement-67-0.03.hdf5\n",
      "\n",
      "Epoch 00068: saving model to weights-improvement-68-0.03.hdf5\n",
      "\n",
      "Epoch 00069: saving model to weights-improvement-69-0.03.hdf5\n",
      "\n",
      "Epoch 00070: saving model to weights-improvement-70-0.03.hdf5\n",
      "\n",
      "Epoch 00071: saving model to weights-improvement-71-0.03.hdf5\n",
      "\n",
      "Epoch 00072: saving model to weights-improvement-72-0.03.hdf5\n",
      "\n",
      "Epoch 00073: saving model to weights-improvement-73-0.03.hdf5\n",
      "\n",
      "Epoch 00074: saving model to weights-improvement-74-0.03.hdf5\n",
      "\n",
      "Epoch 00075: saving model to weights-improvement-75-0.03.hdf5\n",
      "\n",
      "Epoch 00076: saving model to weights-improvement-76-0.03.hdf5\n",
      "\n",
      "Epoch 00077: saving model to weights-improvement-77-0.03.hdf5\n",
      "\n",
      "Epoch 00078: saving model to weights-improvement-78-0.03.hdf5\n",
      "\n",
      "Epoch 00079: saving model to weights-improvement-79-0.03.hdf5\n",
      "\n",
      "Epoch 00080: saving model to weights-improvement-80-0.03.hdf5\n",
      "\n",
      "Epoch 00081: saving model to weights-improvement-81-0.03.hdf5\n",
      "\n",
      "Epoch 00082: saving model to weights-improvement-82-0.03.hdf5\n",
      "\n",
      "Epoch 00083: saving model to weights-improvement-83-0.03.hdf5\n",
      "\n",
      "Epoch 00084: saving model to weights-improvement-84-0.03.hdf5\n",
      "\n",
      "Epoch 00085: saving model to weights-improvement-85-0.03.hdf5\n",
      "\n",
      "Epoch 00086: saving model to weights-improvement-86-0.03.hdf5\n",
      "\n",
      "Epoch 00087: saving model to weights-improvement-87-0.03.hdf5\n",
      "\n",
      "Epoch 00088: saving model to weights-improvement-88-0.03.hdf5\n",
      "\n",
      "Epoch 00089: saving model to weights-improvement-89-0.03.hdf5\n",
      "\n",
      "Epoch 00090: saving model to weights-improvement-90-0.03.hdf5\n"
     ]
    },
    {
     "name": "stdout",
     "output_type": "stream",
     "text": [
      "\n",
      "Epoch 00091: saving model to weights-improvement-91-0.03.hdf5\n",
      "\n",
      "Epoch 00092: saving model to weights-improvement-92-0.03.hdf5\n",
      "\n",
      "Epoch 00093: saving model to weights-improvement-93-0.03.hdf5\n",
      "\n",
      "Epoch 00094: saving model to weights-improvement-94-0.03.hdf5\n",
      "\n",
      "Epoch 00095: saving model to weights-improvement-95-0.03.hdf5\n",
      "\n",
      "Epoch 00096: saving model to weights-improvement-96-0.03.hdf5\n",
      "\n",
      "Epoch 00097: saving model to weights-improvement-97-0.03.hdf5\n",
      "\n",
      "Epoch 00098: saving model to weights-improvement-98-0.03.hdf5\n",
      "\n",
      "Epoch 00099: saving model to weights-improvement-99-0.03.hdf5\n",
      "\n",
      "Epoch 00100: saving model to weights-improvement-100-0.03.hdf5\n"
     ]
    }
   ],
   "source": [
    "k = 4\n",
    "num_val_samples = X_train.shape[0] //k\n",
    "num_epochs = 100\n",
    "all_scores = []\n",
    "all_scores_history = []\n",
    "train_loss_history_list = []\n",
    "train_acc_list = []\n",
    "val_acc_list = []\n",
    "\n",
    "for i in range(k):\n",
    "    print('processing fold #', i)\n",
    "    K.clear_session()  # 清除旧模型，防止模型间干扰\n",
    "    # Prepare the validation data: data from partition # k\n",
    "    val_data = X_train[i * num_val_samples: (i + 1) * num_val_samples]\n",
    "    val_targets = y_train[i * num_val_samples: (i + 1) * num_val_samples]\n",
    "\n",
    "    # Prepare the training data: data from all other partitions\n",
    "    partial_train_data = np.concatenate(\n",
    "        [X_train[:i * num_val_samples],\n",
    "         X_train[(i + 1) * num_val_samples:]],\n",
    "        axis=0)\n",
    "    partial_train_targets = np.concatenate(\n",
    "        [y_train[:i * num_val_samples],\n",
    "         y_train[(i + 1) * num_val_samples:]],\n",
    "        axis=0)\n",
    "\n",
    "    # Build the Keras model (already compiled)              \n",
    "    model = bulid_model_CNN()\n",
    "\n",
    "    history = model.fit(partial_train_data, partial_train_targets,\n",
    "              epochs=num_epochs, batch_size=64, verbose=0, validation_data=(val_data, val_targets), callbacks=callbacks_list)\n",
    "        \n",
    "    # Evaluate the model on the validation data\n",
    "    mae_history = history.history['val_loss']\n",
    "    train_loss_history = history.history['loss']\n",
    "    train_acc = history.history[ 'categorical_accuracy']\n",
    "    val_acc = history.history['val_categorical_accuracy']\n",
    "\n",
    "    all_scores_history.append(mae_history)\n",
    "    train_loss_history_list.append(train_loss_history)\n",
    "    train_acc_list.append(train_acc)    \n",
    "    val_acc_list.append(val_acc)\n",
    "    "
   ]
  },
  {
   "cell_type": "code",
   "execution_count": 15,
   "id": "equipped-syria",
   "metadata": {
    "ExecuteTime": {
     "end_time": "2021-09-18T06:10:35.339929Z",
     "start_time": "2021-09-18T06:10:35.082100Z"
    }
   },
   "outputs": [
    {
     "data": {
      "image/png": "[encoded data removed]",
      "text/plain": [
       "<Figure size 576x432 with 1 Axes>"
      ]
     },
     "metadata": {
      "needs_background": "light"
     },
     "output_type": "display_data"
    },
    {
     "data": {
      "image/png": "[encoded data removed]",
      "text/plain": [
       "<Figure size 576x432 with 1 Axes>"
      ]
     },
     "metadata": {
      "needs_background": "light"
     },
     "output_type": "display_data"
    }
   ],
   "source": [
    "averaged_history_val_loss = np.mean(np.array(all_scores_history[1:]), axis=0)\n",
    "averaged_history_train_loss = np.mean(np.array(train_loss_history_list[1:]), axis=0)\n",
    "averaged_history_train_acc = np.mean(np.array(train_acc_list[1:]), axis=0)\n",
    "averaged_history_val_acc = np.mean(np.array(val_acc_list[1:]), axis=0)\n",
    "\n",
    "font_size = 16\n",
    "# 绘制训练 & 验证的准确率值\n",
    "plt.figure(figsize=(8, 6))\n",
    "plt.plot(averaged_history_train_acc)\n",
    "plt.plot(averaged_history_val_acc)\n",
    "plt.title('Model accuracy', fontdict={'family' : 'Times New Roman', 'size':font_size})\n",
    "plt.ylabel('Accuracy', fontdict={'family' : 'Times New Roman', 'size':font_size})\n",
    "plt.xlabel('Epoch', fontdict={'family' : 'Times New Roman', 'size':font_size})\n",
    "plt.xticks(fontproperties = 'Times New Roman', fontsize=font_size)\n",
    "plt.yticks(fontproperties = 'Times New Roman', fontsize=font_size)\n",
    "plt.legend(['Train', 'Test'], loc='best', prop={'family':'Times New Roman', 'size':font_size})\n",
    "\n",
    "#plt.savefig('acc.eps',dpi=300, bbox_inches=\"tight\")\n",
    "plt.show()\n",
    "\n",
    "# 绘制训练 & 验证的损失值\n",
    "plt.figure(figsize=(8, 6))\n",
    "plt.plot(averaged_history_train_loss)\n",
    "plt.plot(averaged_history_val_loss)\n",
    "plt.title('Model loss', fontdict={'family' : 'Times New Roman', 'size':font_size})\n",
    "plt.ylabel('Loss', fontdict={'family' : 'Times New Roman', 'size':font_size})\n",
    "plt.xlabel('Epoch', fontdict={'family' : 'Times New Roman', 'size':font_size})\n",
    "plt.legend(['Train', 'Test'], loc='upper right', prop={'family':'Times New Roman', 'size':font_size})\n",
    "plt.xticks(fontproperties = 'Times New Roman', fontsize=font_size)\n",
    "plt.yticks(fontproperties = 'Times New Roman', fontsize=font_size)\n",
    "#plt.savefig('loss.eps',dpi=300, bbox_inches=\"tight\")\n",
    "plt.show()"
   ]
  },
  {
   "cell_type": "code",
   "execution_count": 16,
   "id": "suited-affairs",
   "metadata": {
    "ExecuteTime": {
     "end_time": "2021-09-18T06:10:41.308751Z",
     "start_time": "2021-09-18T06:10:41.205407Z"
    }
   },
   "outputs": [],
   "source": [
    "import seaborn as sns; sns.set()\n",
    "import matplotlib.pyplot as plt\n",
    "import matplotlib as mpl\n",
    "\n",
    "mpl.rcParams['font.family'] = 'Times New Roman'\n",
    "mpl.rcParams['font.size'] = 16"
   ]
  },
  {
   "cell_type": "code",
   "execution_count": 17,
   "id": "governmental-basics",
   "metadata": {
    "ExecuteTime": {
     "end_time": "2021-09-18T06:10:42.799609Z",
     "start_time": "2021-09-18T06:10:42.778654Z"
    }
   },
   "outputs": [],
   "source": [
    "def confusion_matrix(pres, y_test):\n",
    "    cm = np.zeros((8,8))\n",
    "    for id, pre in enumerate(pres):\n",
    "        column = int(pre[0]*4 + pre[1] * 2 + pre[2] * 1 )\n",
    "        row = int(y_test[id, 0]*4 + y_test[id, 1] * 2 + y_test[id, 2] * 1)\n",
    "        cm[row, column] += 1\n",
    "    return cm\n",
    "\n",
    "def heatmap(ma, filename):\n",
    "    labels = [\"000\", \"001\",\"010\",\"011\",\"100\",\"101\",\"110\",\"111\"]\n",
    "    acc = np.round(np.sum(np.diag(ma))/np.sum(ma), 5)\n",
    "    ma = pd.DataFrame(ma, index=labels, columns=labels)\n",
    "    f,ax = plt.subplots(figsize=(9, 6))\n",
    "    ax = sns.heatmap(ma, annot=True, center=11, cmap='RdYlBu')\n",
    "    plt.xlabel(\"Predicted labels\",fontdict={'size':16})\n",
    "    plt.ylabel(\"Target labels\",fontdict={'size':16})\n",
    "    plt.title('Accuracy = %s %%'%str(acc*100))\n",
    "    #plt.savefig('%s.eps'%str(filename),dpi=300, bbox_inches=\"tight\")\n",
    "    plt.show()"
   ]
  },
  {
   "cell_type": "code",
   "execution_count": 18,
   "id": "known-transition",
   "metadata": {
    "ExecuteTime": {
     "end_time": "2021-09-18T06:10:43.311645Z",
     "start_time": "2021-09-18T06:10:43.306659Z"
    }
   },
   "outputs": [],
   "source": [
    "from keras.models import load_model"
   ]
  },
  {
   "cell_type": "code",
   "execution_count": 20,
   "id": "working-technical",
   "metadata": {
    "ExecuteTime": {
     "end_time": "2021-09-18T06:11:59.315154Z",
     "start_time": "2021-09-18T06:11:49.697298Z"
    }
   },
   "outputs": [
    {
     "data": {
      "image/png": "[encoded data removed]",
      "text/plain": [
       "<Figure size 648x432 with 2 Axes>"
      ]
     },
     "metadata": {},
     "output_type": "display_data"
    },
    {
     "data": {
      "image/png": "[encoded data removed]",
      "text/plain": [
       "<Figure size 648x432 with 2 Axes>"
      ]
     },
     "metadata": {},
     "output_type": "display_data"
    },
    {
     "data": {
      "image/png": "[encoded data removed]",
      "text/plain": [
       "<Figure size 648x432 with 2 Axes>"
      ]
     },
     "metadata": {},
     "output_type": "display_data"
    }
   ],
   "source": [
    "models_names = ['weights-improvement-13-0.11.hdf5', 'weights-improvement-57-0.02.hdf5', 'weights-improvement-100-0.03.hdf5']\n",
    "for id, name in  enumerate(models_names):\n",
    "    model = load_model(name)\n",
    "    pre = model.predict(X_test)\n",
    "    cm = confusion_matrix(np.around(pre), y_test)\n",
    "    heatmap(cm, id)"
   ]
  },
  {
   "cell_type": "markdown",
   "id": "bearing-removal",
   "metadata": {},
   "source": [
    "# Additional Noises"
   ]
  },
  {
   "cell_type": "code",
   "execution_count": 1,
   "id": "cooked-visit",
   "metadata": {
    "ExecuteTime": {
     "end_time": "2021-09-18T06:13:07.660653Z",
     "start_time": "2021-09-18T06:13:07.646637Z"
    }
   },
   "outputs": [
    {
     "name": "stdout",
     "output_type": "stream",
     "text": [
      "C:\\Users\\liuzo\\01 机器学习 物理\\github\\data\\additional_noise\\additional_noise\n"
     ]
    }
   ],
   "source": [
    "%cd ../data/additional_noise/additional_noise"
   ]
  },
  {
   "cell_type": "code",
   "execution_count": 2,
   "id": "driven-extension",
   "metadata": {
    "ExecuteTime": {
     "end_time": "2021-09-18T06:13:11.103749Z",
     "start_time": "2021-09-18T06:13:07.994530Z"
    }
   },
   "outputs": [
    {
     "name": "stderr",
     "output_type": "stream",
     "text": [
      "Using TensorFlow backend.\n"
     ]
    }
   ],
   "source": [
    "import numpy as np\n",
    "import matplotlib.pyplot as plt\n",
    "import pandas as pd\n",
    "import itertools\n",
    "from sklearn.preprocessing import MinMaxScaler\n",
    "from sklearn.model_selection import train_test_split\n",
    "import os\n",
    "\n",
    "from keras import models\n",
    "from keras import layers\n",
    "from keras.optimizers import RMSprop\n",
    "from keras.callbacks import ReduceLROnPlateau\n",
    "from keras.callbacks import ModelCheckpoint\n",
    "callbacks_list = [ReduceLROnPlateau(monitor='val_loss', factor=0.1, patience=10)] \n",
    "from keras import backend as K\n",
    "\n",
    "# Some memory clean-up\n",
    "K.clear_session()\n",
    "\n",
    "import numpy as np\n",
    "seed = 7\n",
    "np.random.seed(seed)"
   ]
  },
  {
   "cell_type": "code",
   "execution_count": 4,
   "id": "floral-copper",
   "metadata": {
    "ExecuteTime": {
     "end_time": "2021-09-18T06:13:34.288957Z",
     "start_time": "2021-09-18T06:13:34.267022Z"
    }
   },
   "outputs": [],
   "source": [
    "train_scale_list = np.arange(0.0, 3.5, 0.1)#np.arange(0.0, 3.5, 0.1)\n",
    "model_list = []\n",
    "max_min = lambda x: (x-x.min())/(x.max()-x.min())\n",
    "cwd = os.getcwd()\n",
    "\n",
    "def prepare_data():    \n",
    "    X = []\n",
    "    Y = []\n",
    "    for i in list(itertools.product([str(0),str(1)], [str(0),str(1)],[str(0),str(1)],[str(0)])):        \n",
    "        path = os.path.join(cwd, ''.join(i))        \n",
    "        names = os.listdir(path)       \n",
    "        \n",
    "        for name in names:            \n",
    "            X.append(pd.read_csv(os.path.join(path, name), sep='\\t',  usecols=[2]).apply(max_min).to_numpy())            \n",
    "            Y.append(np.array(eval('[' + ','.join(i) + ']')))            \n",
    "        \n",
    "    return np.array(X), np.array(Y)[:,:3]\n",
    "\n",
    "def bulid_model_CNN():  \n",
    "    \n",
    "    model_list = []   \n",
    "    \n",
    "    cnn_out_1 = 20 #16\n",
    "    cnn_len_1 = 460 #20\n",
    "    \n",
    "    model_list.append(\n",
    "            layers.Conv1D(cnn_out_1, cnn_len_1, input_shape=(X_train.shape[1],1)),\n",
    "            ) \n",
    "    model_list.append(layers.BatchNormalization())\n",
    "    model_list.append(layers.Activation('relu'))\n",
    "    model_list.append(layers.MaxPooling1D(3))     \n",
    "    \n",
    "    rnn_out = 16  \n",
    "    lr_rate = 1e-3\n",
    "    \n",
    "    \n",
    "    model_list.append(layers.Bidirectional(layers.LSTM(units=rnn_out, return_sequences=False, dropout=0.2, recurrent_dropout=0.2)))\n",
    "    model_list.append(layers.BatchNormalization())\n",
    "    \n",
    "    model_list.append(layers.Dense(y_train.shape[1], activation='sigmoid'))\n",
    "    model = models.Sequential(model_list)   \n",
    "    \n",
    "    \n",
    "    opt = RMSprop(lr=lr_rate)\n",
    "    model.compile(optimizer=opt, loss='mse', metrics=['categorical_accuracy'])\n",
    "   \n",
    "    return model"
   ]
  },
  {
   "cell_type": "code",
   "execution_count": 5,
   "id": "adaptive-champagne",
   "metadata": {
    "ExecuteTime": {
     "end_time": "2021-09-18T10:49:16.924748Z",
     "start_time": "2021-09-18T06:13:42.444272Z"
    }
   },
   "outputs": [
    {
     "name": "stdout",
     "output_type": "stream",
     "text": [
      "processing fold # 0\n",
      "processing fold # 1\n",
      "processing fold # 2\n",
      "processing fold # 3\n",
      "processing fold # 0\n",
      "processing fold # 1\n",
      "processing fold # 2\n",
      "processing fold # 3\n",
      "processing fold # 0\n",
      "processing fold # 1\n",
      "processing fold # 2\n",
      "processing fold # 3\n",
      "processing fold # 0\n",
      "processing fold # 1\n",
      "processing fold # 2\n",
      "processing fold # 3\n",
      "processing fold # 0\n",
      "processing fold # 1\n",
      "processing fold # 2\n",
      "processing fold # 3\n",
      "processing fold # 0\n",
      "processing fold # 1\n",
      "processing fold # 2\n",
      "processing fold # 3\n",
      "processing fold # 0\n",
      "processing fold # 1\n",
      "processing fold # 2\n",
      "processing fold # 3\n",
      "processing fold # 0\n",
      "processing fold # 1\n",
      "processing fold # 2\n",
      "processing fold # 3\n",
      "processing fold # 0\n",
      "processing fold # 1\n",
      "processing fold # 2\n",
      "processing fold # 3\n",
      "processing fold # 0\n",
      "processing fold # 1\n",
      "processing fold # 2\n",
      "processing fold # 3\n",
      "processing fold # 0\n",
      "processing fold # 1\n",
      "processing fold # 2\n",
      "processing fold # 3\n",
      "processing fold # 0\n",
      "processing fold # 1\n",
      "processing fold # 2\n",
      "processing fold # 3\n",
      "processing fold # 0\n",
      "processing fold # 1\n",
      "processing fold # 2\n",
      "processing fold # 3\n",
      "processing fold # 0\n",
      "processing fold # 1\n",
      "processing fold # 2\n",
      "processing fold # 3\n",
      "processing fold # 0\n",
      "processing fold # 1\n",
      "processing fold # 2\n",
      "processing fold # 3\n",
      "processing fold # 0\n",
      "processing fold # 1\n",
      "processing fold # 2\n",
      "processing fold # 3\n",
      "processing fold # 0\n",
      "processing fold # 1\n",
      "processing fold # 2\n",
      "processing fold # 3\n",
      "processing fold # 0\n",
      "processing fold # 1\n",
      "processing fold # 2\n",
      "processing fold # 3\n",
      "processing fold # 0\n",
      "processing fold # 1\n",
      "processing fold # 2\n",
      "processing fold # 3\n",
      "processing fold # 0\n",
      "processing fold # 1\n",
      "processing fold # 2\n",
      "processing fold # 3\n",
      "processing fold # 0\n",
      "processing fold # 1\n",
      "processing fold # 2\n",
      "processing fold # 3\n",
      "processing fold # 0\n",
      "processing fold # 1\n",
      "processing fold # 2\n",
      "processing fold # 3\n",
      "processing fold # 0\n",
      "processing fold # 1\n",
      "processing fold # 2\n",
      "processing fold # 3\n",
      "processing fold # 0\n",
      "processing fold # 1\n",
      "processing fold # 2\n",
      "processing fold # 3\n",
      "processing fold # 0\n",
      "processing fold # 1\n",
      "processing fold # 2\n",
      "processing fold # 3\n",
      "processing fold # 0\n",
      "processing fold # 1\n",
      "processing fold # 2\n",
      "processing fold # 3\n",
      "processing fold # 0\n",
      "processing fold # 1\n",
      "processing fold # 2\n",
      "processing fold # 3\n",
      "processing fold # 0\n",
      "processing fold # 1\n",
      "processing fold # 2\n",
      "processing fold # 3\n",
      "processing fold # 0\n",
      "processing fold # 1\n",
      "processing fold # 2\n",
      "processing fold # 3\n",
      "processing fold # 0\n",
      "processing fold # 1\n",
      "processing fold # 2\n",
      "processing fold # 3\n",
      "processing fold # 0\n",
      "processing fold # 1\n",
      "processing fold # 2\n",
      "processing fold # 3\n",
      "processing fold # 0\n",
      "processing fold # 1\n",
      "processing fold # 2\n",
      "processing fold # 3\n",
      "processing fold # 0\n",
      "processing fold # 1\n",
      "processing fold # 2\n",
      "processing fold # 3\n",
      "processing fold # 0\n",
      "processing fold # 1\n",
      "processing fold # 2\n",
      "processing fold # 3\n",
      "processing fold # 0\n",
      "processing fold # 1\n",
      "processing fold # 2\n",
      "processing fold # 3\n"
     ]
    }
   ],
   "source": [
    "for scale in train_scale_list:\n",
    "    \n",
    "    X, Y = prepare_data()\n",
    "    X_train, X_test, y_train, y_test = train_test_split(X, Y, test_size=0.15, random_state=7)\n",
    "\n",
    "    X_train_d = np.zeros((X_train.shape[0]*2, X_train.shape[1],  X_train.shape[2]))\n",
    "    y_train_d = np.zeros((y_train.shape[0]*2, y_train.shape[1]))\n",
    "\n",
    "    for id  in range(X_train.shape[0]):\n",
    "        X_train_d[id] = X_train[id]\n",
    "        y_train_d[id] = y_train[id]\n",
    "        X_train_d[id + X_train.shape[0]] = max_min(X_train[id] + np.random.normal(loc=0, scale=scale, size = (X_train.shape[1], X_train.shape[2])))\n",
    "        y_train_d[id + X_train.shape[0]] = y_train[id]\n",
    "\n",
    "    X_train = X_train_d\n",
    "    y_train = y_train_d\n",
    "    del X_train_d\n",
    "    del y_train_d\n",
    "\n",
    "    k = 4\n",
    "    num_val_samples = X_train.shape[0] //k\n",
    "    num_epochs = 75\n",
    "\n",
    "    for i in range(k):\n",
    "        print('processing fold #', i)\n",
    "        K.clear_session() \n",
    "        # Prepare the validation data: data from partition # k\n",
    "        val_data = X_train[i * num_val_samples: (i + 1) * num_val_samples]\n",
    "        val_targets = y_train[i * num_val_samples: (i + 1) * num_val_samples]\n",
    "\n",
    "        # Prepare the training data: data from all other partitions\n",
    "        partial_train_data = np.concatenate(\n",
    "            [X_train[:i * num_val_samples],\n",
    "             X_train[(i + 1) * num_val_samples:]],\n",
    "            axis=0)\n",
    "        partial_train_targets = np.concatenate(\n",
    "            [y_train[:i * num_val_samples],\n",
    "             y_train[(i + 1) * num_val_samples:]],\n",
    "            axis=0)\n",
    "                   \n",
    "        model = bulid_model_CNN()\n",
    "\n",
    "        history = model.fit(partial_train_data, partial_train_targets,\n",
    "                  epochs=num_epochs, batch_size=64, verbose=0, validation_data=(val_data, val_targets),\n",
    "                            callbacks=callbacks_list)\n",
    "\n",
    "    model.save(str(scale))"
   ]
  },
  {
   "cell_type": "code",
   "execution_count": 6,
   "id": "verbal-sight",
   "metadata": {
    "ExecuteTime": {
     "end_time": "2021-09-18T11:58:31.092689Z",
     "start_time": "2021-09-18T11:26:56.301318Z"
    }
   },
   "outputs": [],
   "source": [
    "scale_list=np.arange(0.0, 5.5, 0.1)\n",
    "acc_mat = []\n",
    "for scale_train in train_scale_list:\n",
    "    acc_list = np.zeros((5, len(scale_list)))\n",
    "    reconstructed_model = models.load_model(str(scale_train))\n",
    "    for ii in range(5):\n",
    "\n",
    "        for ind, scale in enumerate( scale_list):\n",
    "            X_test_d = np.zeros((X_test.shape[0], X_test.shape[1],  X_test.shape[2]))\n",
    "            y_test_d = np.zeros((y_test.shape[0], y_test.shape[1]))\n",
    "\n",
    "            for id  in range(X_test.shape[0]):\n",
    "                X_test_d[id] = X_test[id] + np.random.normal(loc=0, scale=scale, size = (X_test.shape[1], X_test.shape[2]))\n",
    "                y_test_d[id] = y_test[id] \n",
    "\n",
    "            mse, mae = reconstructed_model.evaluate(X_test_d, y_test_d, verbose=0)\n",
    "            pre = reconstructed_model.predict(X_test_d)\n",
    "            #display(np.abs(np.around(pre) -y_test))\n",
    "            accuracy = sum([1 if np.sum(np.abs(np.around(pre[i]) -y_test_d[i])) == 0 else 0 for i in range(len(pre)) ])/len(pre)\n",
    "            acc_list[ii,ind] = accuracy\n",
    "\n",
    "    acc_mat.append(np.mean(np.array(acc_list),axis=0)) "
   ]
  },
  {
   "cell_type": "code",
   "execution_count": 12,
   "id": "moderate-method",
   "metadata": {
    "ExecuteTime": {
     "end_time": "2021-09-18T03:15:04.359021Z",
     "start_time": "2021-09-18T03:15:04.257970Z"
    }
   },
   "outputs": [
    {
     "data": {
      "text/plain": [
       "[<matplotlib.lines.Line2D at 0x16150b09a90>]"
      ]
     },
     "execution_count": 12,
     "metadata": {},
     "output_type": "execute_result"
    },
    {
     "data": {
      "image/png": "[encoded data removed]",
      "text/plain": [
       "<Figure size 432x288 with 1 Axes>"
      ]
     },
     "metadata": {
      "needs_background": "light"
     },
     "output_type": "display_data"
    }
   ],
   "source": [
    "plt.plot(acc_mat[0])"
   ]
  },
  {
   "cell_type": "code",
   "execution_count": null,
   "id": "dedicated-negative",
   "metadata": {},
   "outputs": [],
   "source": []
  },
  {
   "cell_type": "code",
   "execution_count": 9,
   "id": "needed-blocking",
   "metadata": {
    "ExecuteTime": {
     "end_time": "2021-09-18T12:01:03.975498Z",
     "start_time": "2021-09-18T12:01:03.727203Z"
    }
   },
   "outputs": [
    {
     "data": {
      "image/png": "[encoded data removed]",
      "text/plain": [
       "<Figure size 864x576 with 2 Axes>"
      ]
     },
     "metadata": {
      "needs_background": "light"
     },
     "output_type": "display_data"
    }
   ],
   "source": [
    "acc_mat = np.squeeze(np.array(acc_mat))\n",
    "\n",
    "x = np.arange(0, 5.5, 0.1)\n",
    "y = np.arange(0, 3.5, 0.1)\n",
    "X, Y = np.meshgrid(x, y)\n",
    "\n",
    "plt.figure(figsize=(12, 8))\n",
    "plt.rcParams.update({\"font.size\":20})\n",
    "plt.rcParams['font.family'] = 'Times New Roman'\n",
    "plt.pcolor(X, Y, acc_mat, shading='auto',edgecolors='None',snap=False)\n",
    "plt.colorbar()\n",
    "plt.xlabel('Test set Standard deviation ')\n",
    "plt.ylabel('Training set Standard deviation')\n",
    "#plt.savefig('noise_map1.eps')\n",
    "plt.show()"
   ]
  },
  {
   "cell_type": "code",
   "execution_count": null,
   "id": "rocky-ceramic",
   "metadata": {},
   "outputs": [],
   "source": []
  }
 ],
 "metadata": {
  "kernelspec": {
   "display_name": "Python 3",
   "language": "python",
   "name": "python3"
  },
  "language_info": {
   "codemirror_mode": {
    "name": "ipython",
    "version": 3
   },
   "file_extension": ".py",
   "mimetype": "text/x-python",
   "name": "python",
   "nbconvert_exporter": "python",
   "pygments_lexer": "ipython3",
   "version": "3.6.11"
  },
  "toc": {
   "base_numbering": 1,
   "nav_menu": {},
   "number_sections": true,
   "sideBar": true,
   "skip_h1_title": false,
   "title_cell": "Table of Contents",
   "title_sidebar": "Contents",
   "toc_cell": false,
   "toc_position": {
    "height": "calc(100% - 180px)",
    "left": "10px",
    "top": "150px",
    "width": "165px"
   },
   "toc_section_display": true,
   "toc_window_display": true
  }
 },
 "nbformat": 4,
 "nbformat_minor": 5
}
